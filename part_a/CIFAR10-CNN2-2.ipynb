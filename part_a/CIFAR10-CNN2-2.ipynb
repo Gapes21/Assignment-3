{
 "cells": [
  {
   "cell_type": "markdown",
   "id": "309a0e3c",
   "metadata": {},
   "source": [
    "# Dataset\n",
    "\n",
    "CIFAR 10"
   ]
  },
  {
   "cell_type": "code",
   "execution_count": 1,
   "id": "93e13ecd",
   "metadata": {},
   "outputs": [
    {
     "name": "stdout",
     "output_type": "stream",
     "text": [
      "Files already downloaded and verified\n",
      "Files already downloaded and verified\n"
     ]
    }
   ],
   "source": [
    "import torchvision\n",
    "\n",
    "cifar10Train = torchvision.datasets.CIFAR10(\"./CIFAR10\", download=True, transform=lambda im: torchvision.transforms.functional.pil_to_tensor(im)/255)\n",
    "cifar10Test = torchvision.datasets.CIFAR10(\"./CIFAR10\", train=False, download=True, transform=lambda im: torchvision.transforms.functional.pil_to_tensor(im)/255)"
   ]
  },
  {
   "cell_type": "code",
   "execution_count": 2,
   "id": "a2377056",
   "metadata": {},
   "outputs": [],
   "source": [
    "import numpy as np\n",
    "import pandas as pd\n",
    "import time\n",
    "\n",
    "import torch\n",
    "import torch.nn as nn\n",
    "from torch.utils.data import DataLoader\n",
    "import PIL\n",
    "from sklearn.metrics import accuracy_score, f1_score\n",
    "\n",
    "device = 'cuda' if torch.cuda.is_available() else 'cpu'"
   ]
  },
  {
   "cell_type": "markdown",
   "id": "ad470287",
   "metadata": {},
   "source": [
    "# Models"
   ]
  },
  {
   "cell_type": "markdown",
   "id": "3a87a94d",
   "metadata": {},
   "source": [
    "## CNN2.2\n",
    "\n",
    "3 Conv, 2 FC, Dropout=0.4, no batch norm\n",
    "\n",
    "Activation fn: ReLU\n",
    "\n",
    "Optimizer: Adam"
   ]
  },
  {
   "cell_type": "code",
   "execution_count": 3,
   "id": "d51879f5",
   "metadata": {},
   "outputs": [],
   "source": [
    "class CNN2(nn.Module):\n",
    "    def __init__(self):\n",
    "        super().__init__()\n",
    "\n",
    "        self.cnn1 = nn.Conv2d(3, 16, (3, 3), padding='same').to(device)\n",
    "        self.relu1 = nn.ReLU()\n",
    "        self.maxpool1 = nn.MaxPool2d((2, 2), stride=(2, 2)).to(device)\n",
    "\n",
    "        self.cnn2 = nn.Conv2d(16, 32, (3, 3), padding='same').to(device)\n",
    "        self.relu2 = nn.ReLU()\n",
    "        self.maxpool2 = nn.MaxPool2d((2, 2), stride=(2,2)).to(device)\n",
    "\n",
    "        self.cnn3 = nn.Conv2d(32, 64, (3, 3), padding='same').to(device)\n",
    "        self.relu3 = nn.ReLU()\n",
    "        self.maxpool3 = nn.MaxPool2d((2, 2), stride=(2,2)).to(device)\n",
    "\n",
    "        self.linear1 = nn.Linear(64 * 4 * 4, 512)\n",
    "        self.relu4 = nn.ReLU()\n",
    "        self.dropout1 = nn.Dropout(0.4)\n",
    "\n",
    "        self.linear2 = nn.Linear(512, 512)\n",
    "        self.relu5 = nn.ReLU()\n",
    "        self.dropout2 = nn.Dropout(0.4)\n",
    "\n",
    "        self.linear3 = nn.Linear(512, 10)\n",
    "\n",
    "    def forward(self, inputs):\n",
    "        x = self.cnn1(inputs)\n",
    "        x = self.relu1(x)\n",
    "        x = self.maxpool1(x)\n",
    "\n",
    "        x = self.cnn2(x)\n",
    "        x = self.relu2(x)\n",
    "        x = self.maxpool2(x)\n",
    "\n",
    "        x = self.cnn3(x)\n",
    "        x = self.relu3(x)\n",
    "        x = self.maxpool3(x)\n",
    "\n",
    "        x = torch.flatten(x, 1)\n",
    "\n",
    "        x = self.linear1(x)\n",
    "        x = self.relu4(x)\n",
    "        x = self.dropout1(x)\n",
    "\n",
    "        x = self.linear2(x)\n",
    "        x = self.relu5(x)\n",
    "        x = self.dropout2(x)\n",
    "\n",
    "        x = self.linear3(x)\n",
    "    \n",
    "        return x\n"
   ]
  },
  {
   "cell_type": "code",
   "execution_count": 4,
   "id": "7c620321",
   "metadata": {},
   "outputs": [],
   "source": [
    "trainloader = DataLoader(cifar10Train, 64)\n",
    "testloader = DataLoader(cifar10Test, 64)"
   ]
  },
  {
   "cell_type": "code",
   "execution_count": 5,
   "id": "d6b32c0e",
   "metadata": {},
   "outputs": [],
   "source": [
    "def train_one_epoch(model, optimzer, loss_fn, training_loader):\n",
    "    running_loss = 0.\n",
    "    running_momentum = 0.\n",
    "\n",
    "    for i, data in enumerate(training_loader):\n",
    "        inputs, labels = data\n",
    "\n",
    "        optimizer.zero_grad()\n",
    "\n",
    "        outputs = model(inputs.to(device))\n",
    "\n",
    "        loss = loss_fn(outputs, labels.to(device))\n",
    "        loss.backward()\n",
    "\n",
    "        optimizer.step()\n",
    "           \n",
    "\n",
    "        running_loss += loss.item()\n",
    "\n",
    "        \n",
    "    average_loss = running_loss/(i+1)\n",
    "    \n",
    "\n",
    "    return average_loss"
   ]
  },
  {
   "cell_type": "code",
   "execution_count": 6,
   "id": "4f28d54d",
   "metadata": {},
   "outputs": [],
   "source": [
    "def evaluate(tdataset, model):\n",
    "    model.eval()\n",
    "    preds = []\n",
    "    truths = []\n",
    "    for example in tdataset:\n",
    "        input = example[0].unsqueeze(0).to(device)\n",
    "        logits = model(input)\n",
    "        pred = torch.argmax(torch.softmax(logits, 1))\n",
    "        preds.append(pred.item())\n",
    "        truths.append(example[1])\n",
    "    return accuracy_score(truths, preds), f1_score(truths, preds, average='macro'), preds, truths"
   ]
  },
  {
   "cell_type": "code",
   "execution_count": 7,
   "id": "4c247829",
   "metadata": {},
   "outputs": [],
   "source": [
    "def save_model(model, filepath):\n",
    "    torch.save(model.state_dict(), filepath)\n",
    "\n",
    "def load_model(model, filepath, device='cpu'):\n",
    "    model.load_state_dict(torch.load(filepath, map_location=device))\n",
    "    model.eval()"
   ]
  },
  {
   "cell_type": "code",
   "execution_count": 8,
   "id": "8dfa3b68",
   "metadata": {},
   "outputs": [],
   "source": [
    "cnn2 = CNN2().to(device)\n",
    "\n",
    "optimizer = torch.optim.Adam(cnn2.parameters(), lr=1e-3)\n",
    "loss_fn = nn.CrossEntropyLoss()"
   ]
  },
  {
   "cell_type": "code",
   "execution_count": 9,
   "id": "6b66be08",
   "metadata": {},
   "outputs": [
    {
     "name": "stdout",
     "output_type": "stream",
     "text": [
      "Epoch 1 | train loss: 1.641 | train accuracy: 0.51% | train f1: 0.50 | test loss: 1.339 | test accuracy: 0.51% | test f1: 0.49 | time: 10.25s\n",
      "Epoch 2 | train loss: 1.268 | train accuracy: 0.62% | train f1: 0.61 | test loss: 1.106 | test accuracy: 0.60% | test f1: 0.60 | time: 18.77s\n",
      "Epoch 3 | train loss: 1.089 | train accuracy: 0.68% | train f1: 0.68 | test loss: 0.994 | test accuracy: 0.65% | test f1: 0.65 | time: 27.44s\n",
      "Epoch 4 | train loss: 0.964 | train accuracy: 0.71% | train f1: 0.71 | test loss: 0.961 | test accuracy: 0.67% | test f1: 0.67 | time: 36.03s\n",
      "Epoch 5 | train loss: 0.883 | train accuracy: 0.74% | train f1: 0.74 | test loss: 0.899 | test accuracy: 0.69% | test f1: 0.69 | time: 44.97s\n",
      "Epoch 6 | train loss: 0.820 | train accuracy: 0.76% | train f1: 0.76 | test loss: 0.870 | test accuracy: 0.70% | test f1: 0.70 | time: 53.86s\n",
      "Epoch 7 | train loss: 0.771 | train accuracy: 0.79% | train f1: 0.79 | test loss: 0.834 | test accuracy: 0.71% | test f1: 0.71 | time: 62.48s\n",
      "Epoch 8 | train loss: 0.717 | train accuracy: 0.80% | train f1: 0.80 | test loss: 0.843 | test accuracy: 0.71% | test f1: 0.72 | time: 71.06s\n",
      "Epoch 9 | train loss: 0.679 | train accuracy: 0.82% | train f1: 0.82 | test loss: 0.828 | test accuracy: 0.72% | test f1: 0.72 | time: 79.61s\n",
      "Epoch 10 | train loss: 0.641 | train accuracy: 0.82% | train f1: 0.83 | test loss: 0.859 | test accuracy: 0.72% | test f1: 0.72 | time: 88.14s\n",
      "Epoch 11 | train loss: 0.613 | train accuracy: 0.83% | train f1: 0.83 | test loss: 0.871 | test accuracy: 0.71% | test f1: 0.71 | time: 96.61s\n",
      "Epoch 12 | train loss: 0.583 | train accuracy: 0.84% | train f1: 0.84 | test loss: 0.893 | test accuracy: 0.72% | test f1: 0.72 | time: 105.28s\n",
      "Epoch 13 | train loss: 0.553 | train accuracy: 0.85% | train f1: 0.85 | test loss: 0.870 | test accuracy: 0.72% | test f1: 0.73 | time: 113.94s\n",
      "Epoch 14 | train loss: 0.528 | train accuracy: 0.86% | train f1: 0.86 | test loss: 0.910 | test accuracy: 0.72% | test f1: 0.72 | time: 122.82s\n",
      "Epoch 15 | train loss: 0.511 | train accuracy: 0.88% | train f1: 0.88 | test loss: 0.880 | test accuracy: 0.73% | test f1: 0.72 | time: 131.62s\n",
      "Epoch 16 | train loss: 0.487 | train accuracy: 0.88% | train f1: 0.88 | test loss: 0.919 | test accuracy: 0.72% | test f1: 0.73 | time: 140.35s\n",
      "Epoch 17 | train loss: 0.479 | train accuracy: 0.89% | train f1: 0.89 | test loss: 0.909 | test accuracy: 0.73% | test f1: 0.72 | time: 149.26s\n",
      "Epoch 18 | train loss: 0.463 | train accuracy: 0.89% | train f1: 0.89 | test loss: 0.910 | test accuracy: 0.72% | test f1: 0.72 | time: 158.22s\n",
      "Epoch 19 | train loss: 0.445 | train accuracy: 0.89% | train f1: 0.89 | test loss: 0.943 | test accuracy: 0.72% | test f1: 0.72 | time: 167.24s\n",
      "Epoch 20 | train loss: 0.432 | train accuracy: 0.90% | train f1: 0.90 | test loss: 0.960 | test accuracy: 0.72% | test f1: 0.72 | time: 176.63s\n",
      "Epoch 21 | train loss: 0.416 | train accuracy: 0.91% | train f1: 0.91 | test loss: 0.957 | test accuracy: 0.72% | test f1: 0.72 | time: 185.32s\n",
      "Epoch 22 | train loss: 0.407 | train accuracy: 0.91% | train f1: 0.91 | test loss: 0.991 | test accuracy: 0.72% | test f1: 0.72 | time: 193.97s\n",
      "Epoch 23 | train loss: 0.400 | train accuracy: 0.92% | train f1: 0.92 | test loss: 0.969 | test accuracy: 0.72% | test f1: 0.72 | time: 202.60s\n",
      "Epoch 24 | train loss: 0.387 | train accuracy: 0.92% | train f1: 0.92 | test loss: 0.994 | test accuracy: 0.72% | test f1: 0.71 | time: 211.25s\n",
      "Epoch 25 | train loss: 0.381 | train accuracy: 0.92% | train f1: 0.92 | test loss: 0.998 | test accuracy: 0.72% | test f1: 0.72 | time: 219.86s\n"
     ]
    }
   ],
   "source": [
    "EPOCHS = 25\n",
    "\n",
    "total_time = 0\n",
    "\n",
    "max_f1 = -float('inf')\n",
    "\n",
    "log = []\n",
    "\n",
    "for epoch in range(EPOCHS):\n",
    "    begin = time.time()\n",
    "    \n",
    "    cnn2.train(True)\n",
    "    average_train_loss = train_one_epoch(cnn2, optimizer, loss_fn, trainloader)\n",
    "    \n",
    "    end = time.time()\n",
    "    total_time += end-begin\n",
    "\n",
    "    cnn2.eval()\n",
    "    running_test_loss = 0.\n",
    "    for i, data in enumerate(testloader):\n",
    "        inputs, labels = data\n",
    "        outputs = cnn2(inputs.to(device))\n",
    "        loss = loss_fn(outputs, labels.to(device))\n",
    "        running_test_loss += loss.item()\n",
    "    average_test_loss = running_test_loss/(i+1)\n",
    "    if (epoch+1)%1 == 0:\n",
    "        train_accuracy, train_f1, _, _ = evaluate(cifar10Train, cnn2)\n",
    "        test_accuracy, test_f1, _, _ = evaluate(cifar10Test, cnn2)\n",
    "        if test_f1 > max_f1:\n",
    "            max_f1 = test_f1\n",
    "            save_model(cnn2, './models/cnn2_2.pth')\n",
    "        log.append({'average_test_loss': average_test_loss, 'average_train_loss': average_train_loss, 'total_time': total_time, 'train_accuracy': train_accuracy, 'train_f1': train_f1, 'test_accuracy': test_accuracy, 'test_f1': test_f1})\n",
    "        print(f\"Epoch {epoch+1} | train loss: {average_train_loss:.3f} | train accuracy: {train_accuracy:.2f}% | train f1: {train_f1:.2f} | test loss: {average_test_loss:.3f} | test accuracy: {test_accuracy:.2f}% | test f1: {test_f1:.2f} | time: {total_time:.2f}s\")"
   ]
  },
  {
   "cell_type": "code",
   "execution_count": 10,
   "id": "0c7a4e8c",
   "metadata": {},
   "outputs": [],
   "source": [
    "import pickle\n",
    "\n",
    "pickle.dump(log, open('./logs/cnn2_2.pkl', 'wb'))"
   ]
  },
  {
   "cell_type": "code",
   "execution_count": null,
   "id": "41e55a98",
   "metadata": {},
   "outputs": [],
   "source": []
  }
 ],
 "metadata": {
  "kernelspec": {
   "display_name": "env",
   "language": "python",
   "name": "env"
  },
  "language_info": {
   "codemirror_mode": {
    "name": "ipython",
    "version": 3
   },
   "file_extension": ".py",
   "mimetype": "text/x-python",
   "name": "python",
   "nbconvert_exporter": "python",
   "pygments_lexer": "ipython3",
   "version": "3.8.10"
  }
 },
 "nbformat": 4,
 "nbformat_minor": 5
}
