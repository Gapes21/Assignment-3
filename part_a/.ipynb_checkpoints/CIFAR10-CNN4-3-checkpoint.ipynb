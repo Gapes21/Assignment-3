{
 "cells": [
  {
   "cell_type": "markdown",
   "id": "309a0e3c",
   "metadata": {},
   "source": [
    "# Dataset\n",
    "\n",
    "CIFAR 10"
   ]
  },
  {
   "cell_type": "code",
   "execution_count": 1,
   "id": "93e13ecd",
   "metadata": {},
   "outputs": [
    {
     "name": "stdout",
     "output_type": "stream",
     "text": [
      "Files already downloaded and verified\n",
      "Files already downloaded and verified\n"
     ]
    }
   ],
   "source": [
    "import torchvision\n",
    "\n",
    "cifar10Train = torchvision.datasets.CIFAR10(\"./CIFAR10\", download=True, transform=lambda im: torchvision.transforms.functional.pil_to_tensor(im)/255)\n",
    "cifar10Test = torchvision.datasets.CIFAR10(\"./CIFAR10\", train=False, download=True, transform=lambda im: torchvision.transforms.functional.pil_to_tensor(im)/255)"
   ]
  },
  {
   "cell_type": "code",
   "execution_count": 2,
   "id": "a2377056",
   "metadata": {},
   "outputs": [],
   "source": [
    "import numpy as np\n",
    "import pandas as pd\n",
    "import time\n",
    "\n",
    "import torch\n",
    "import torch.nn as nn\n",
    "from torch.utils.data import DataLoader\n",
    "import PIL\n",
    "from sklearn.metrics import accuracy_score, f1_score\n",
    "\n",
    "device = 'cuda' if torch.cuda.is_available() else 'cpu'"
   ]
  },
  {
   "cell_type": "markdown",
   "id": "ad470287",
   "metadata": {},
   "source": [
    "# Models"
   ]
  },
  {
   "cell_type": "markdown",
   "id": "3a87a94d",
   "metadata": {},
   "source": [
    "## CNN4.3\n",
    "\n",
    "3 Conv, 2 FC, Dropout=0.4, Batch norm\n",
    "\n",
    "Activation fn: Leaky ReLU\n",
    "\n",
    "Optimizer: Adam"
   ]
  },
  {
   "cell_type": "code",
   "execution_count": 3,
   "id": "d51879f5",
   "metadata": {},
   "outputs": [],
   "source": [
    "class CNN4(nn.Module):\n",
    "    def __init__(self):\n",
    "        super().__init__()\n",
    "\n",
    "        self.cnn1 = nn.Conv2d(3, 16, (3, 3), padding='same').to(device)\n",
    "        self.bn1 = nn.BatchNorm2d(16)\n",
    "        self.lrelu1 = nn.LeakyReLU()\n",
    "        self.maxpool1 = nn.MaxPool2d((2, 2), stride=(2, 2)).to(device)\n",
    "\n",
    "        self.cnn2 = nn.Conv2d(16, 32, (3, 3), padding='same').to(device)\n",
    "        self.bn2 = nn.BatchNorm2d(32)\n",
    "        self.lrelu2 = nn.LeakyReLU()\n",
    "        self.maxpool2 = nn.MaxPool2d((2, 2), stride=(2,2)).to(device)\n",
    "\n",
    "        self.cnn3 = nn.Conv2d(32, 64, (3, 3), padding='same').to(device)\n",
    "        self.bn3 = nn.BatchNorm2d(64)\n",
    "        self.lrelu3 = nn.LeakyReLU()\n",
    "        self.maxpool3 = nn.MaxPool2d((2, 2), stride=(2,2)).to(device)\n",
    "\n",
    "        self.linear1 = nn.Linear(64 * 4 * 4, 512)\n",
    "        self.lrelu4 = nn.LeakyReLU()\n",
    "        self.dropout1 = nn.Dropout(0.4)\n",
    "\n",
    "        self.linear2 = nn.Linear(512, 512)\n",
    "        self.lrelu5 = nn.LeakyReLU()\n",
    "        self.dropout2 = nn.Dropout(0.4)\n",
    "\n",
    "        self.linear3 = nn.Linear(512, 10)\n",
    "\n",
    "    def forward(self, inputs):\n",
    "        x = self.cnn1(inputs)\n",
    "        x = self.bn1(x)\n",
    "        x = self.lrelu1(x)\n",
    "        x = self.maxpool1(x)\n",
    "\n",
    "        x = self.cnn2(x)\n",
    "        x = self.bn2(x)\n",
    "        x = self.lrelu2(x)\n",
    "        x = self.maxpool2(x)\n",
    "\n",
    "        x = self.cnn3(x)\n",
    "        x = self.bn3(x)\n",
    "        x = self.lrelu3(x)\n",
    "        x = self.maxpool3(x)\n",
    "\n",
    "        x = torch.flatten(x, 1)\n",
    "\n",
    "        x = self.linear1(x)\n",
    "        x = self.lrelu4(x)\n",
    "        x = self.dropout1(x)\n",
    "\n",
    "        x = self.linear2(x)\n",
    "        x = self.lrelu5(x)\n",
    "        x = self.dropout2(x)\n",
    "\n",
    "        x = self.linear3(x)\n",
    "    \n",
    "        return x\n"
   ]
  },
  {
   "cell_type": "code",
   "execution_count": 4,
   "id": "7c620321",
   "metadata": {},
   "outputs": [],
   "source": [
    "trainloader = DataLoader(cifar10Train, 64)\n",
    "testloader = DataLoader(cifar10Test, 64)"
   ]
  },
  {
   "cell_type": "code",
   "execution_count": 5,
   "id": "d6b32c0e",
   "metadata": {},
   "outputs": [],
   "source": [
    "def train_one_epoch(model, optimzer, loss_fn, training_loader):\n",
    "    running_loss = 0.\n",
    "    running_momentum = 0.\n",
    "\n",
    "    for i, data in enumerate(training_loader):\n",
    "        inputs, labels = data\n",
    "\n",
    "        optimizer.zero_grad()\n",
    "\n",
    "        outputs = model(inputs.to(device))\n",
    "\n",
    "        loss = loss_fn(outputs, labels.to(device))\n",
    "        loss.backward()\n",
    "\n",
    "        optimizer.step()\n",
    "           \n",
    "\n",
    "        running_loss += loss.item()\n",
    "\n",
    "        \n",
    "    average_loss = running_loss/(i+1)\n",
    "    \n",
    "\n",
    "    return average_loss"
   ]
  },
  {
   "cell_type": "code",
   "execution_count": 6,
   "id": "4f28d54d",
   "metadata": {},
   "outputs": [],
   "source": [
    "def evaluate(tdataset, model):\n",
    "    model.eval()\n",
    "    preds = []\n",
    "    truths = []\n",
    "    for example in tdataset:\n",
    "        input = example[0].unsqueeze(0).to(device)\n",
    "        logits = model(input)\n",
    "        pred = torch.argmax(torch.softmax(logits, 1))\n",
    "        preds.append(pred.item())\n",
    "        truths.append(example[1])\n",
    "    return accuracy_score(truths, preds), f1_score(truths, preds, average='macro'), preds, truths"
   ]
  },
  {
   "cell_type": "code",
   "execution_count": 7,
   "id": "4c247829",
   "metadata": {},
   "outputs": [],
   "source": [
    "def save_model(model, filepath):\n",
    "    torch.save(model.state_dict(), filepath)\n",
    "\n",
    "def load_model(model, filepath, device='cpu'):\n",
    "    model.load_state_dict(torch.load(filepath, map_location=device))\n",
    "    model.eval()"
   ]
  },
  {
   "cell_type": "code",
   "execution_count": 8,
   "id": "8dfa3b68",
   "metadata": {},
   "outputs": [],
   "source": [
    "cnn4 = CNN4().to(device)\n",
    "\n",
    "optimizer = torch.optim.Adam(cnn4.parameters(), lr=1e-3)\n",
    "loss_fn = nn.CrossEntropyLoss()"
   ]
  },
  {
   "cell_type": "code",
   "execution_count": 9,
   "id": "6b66be08",
   "metadata": {},
   "outputs": [
    {
     "name": "stdout",
     "output_type": "stream",
     "text": [
      "Epoch 1 | train loss: 1.394 | train accuracy: 62.45% | train f1: 0.62 | test loss: 1.092 | test accuracy: 61.56% | test f1: 0.61 | time: 11.78s\n",
      "Epoch 2 | train loss: 1.045 | train accuracy: 68.75% | train f1: 0.69 | test loss: 0.953 | test accuracy: 67.74% | test f1: 0.67 | time: 21.16s\n",
      "Epoch 3 | train loss: 0.905 | train accuracy: 71.44% | train f1: 0.71 | test loss: 0.887 | test accuracy: 69.11% | test f1: 0.69 | time: 30.51s\n",
      "Epoch 4 | train loss: 0.812 | train accuracy: 74.97% | train f1: 0.75 | test loss: 0.836 | test accuracy: 70.88% | test f1: 0.71 | time: 39.95s\n",
      "Epoch 5 | train loss: 0.742 | train accuracy: 77.31% | train f1: 0.77 | test loss: 0.799 | test accuracy: 72.44% | test f1: 0.73 | time: 49.33s\n",
      "Epoch 6 | train loss: 0.683 | train accuracy: 78.32% | train f1: 0.78 | test loss: 0.800 | test accuracy: 73.15% | test f1: 0.73 | time: 58.72s\n",
      "Epoch 7 | train loss: 0.638 | train accuracy: 83.06% | train f1: 0.83 | test loss: 0.710 | test accuracy: 76.18% | test f1: 0.76 | time: 68.11s\n",
      "Epoch 8 | train loss: 0.590 | train accuracy: 80.91% | train f1: 0.81 | test loss: 0.786 | test accuracy: 73.36% | test f1: 0.73 | time: 77.44s\n",
      "Epoch 9 | train loss: 0.546 | train accuracy: 83.67% | train f1: 0.84 | test loss: 0.775 | test accuracy: 74.22% | test f1: 0.74 | time: 86.86s\n",
      "Epoch 10 | train loss: 0.508 | train accuracy: 83.00% | train f1: 0.83 | test loss: 0.824 | test accuracy: 73.46% | test f1: 0.74 | time: 96.12s\n",
      "Epoch 11 | train loss: 0.474 | train accuracy: 87.87% | train f1: 0.88 | test loss: 0.731 | test accuracy: 76.77% | test f1: 0.77 | time: 105.35s\n",
      "Epoch 12 | train loss: 0.436 | train accuracy: 85.98% | train f1: 0.86 | test loss: 0.831 | test accuracy: 74.32% | test f1: 0.74 | time: 114.60s\n",
      "Epoch 13 | train loss: 0.406 | train accuracy: 86.36% | train f1: 0.86 | test loss: 0.864 | test accuracy: 73.97% | test f1: 0.74 | time: 123.91s\n",
      "Epoch 14 | train loss: 0.378 | train accuracy: 86.55% | train f1: 0.86 | test loss: 0.885 | test accuracy: 73.30% | test f1: 0.73 | time: 133.16s\n",
      "Epoch 15 | train loss: 0.358 | train accuracy: 79.69% | train f1: 0.80 | test loss: 1.251 | test accuracy: 68.84% | test f1: 0.68 | time: 142.44s\n",
      "Epoch 16 | train loss: 0.329 | train accuracy: 86.50% | train f1: 0.87 | test loss: 0.954 | test accuracy: 72.92% | test f1: 0.73 | time: 151.64s\n",
      "Epoch 17 | train loss: 0.310 | train accuracy: 91.02% | train f1: 0.91 | test loss: 0.872 | test accuracy: 75.39% | test f1: 0.75 | time: 160.82s\n",
      "Epoch 18 | train loss: 0.284 | train accuracy: 87.88% | train f1: 0.88 | test loss: 1.019 | test accuracy: 72.88% | test f1: 0.73 | time: 170.09s\n",
      "Epoch 19 | train loss: 0.273 | train accuracy: 89.69% | train f1: 0.90 | test loss: 1.043 | test accuracy: 73.49% | test f1: 0.74 | time: 179.25s\n",
      "Epoch 20 | train loss: 0.255 | train accuracy: 92.53% | train f1: 0.93 | test loss: 0.989 | test accuracy: 75.31% | test f1: 0.75 | time: 188.32s\n",
      "Epoch 21 | train loss: 0.242 | train accuracy: 89.78% | train f1: 0.90 | test loss: 1.143 | test accuracy: 73.06% | test f1: 0.73 | time: 197.43s\n",
      "Epoch 22 | train loss: 0.225 | train accuracy: 92.38% | train f1: 0.92 | test loss: 0.998 | test accuracy: 74.39% | test f1: 0.74 | time: 206.41s\n",
      "Epoch 23 | train loss: 0.219 | train accuracy: 94.09% | train f1: 0.94 | test loss: 0.978 | test accuracy: 75.33% | test f1: 0.75 | time: 215.44s\n",
      "Epoch 24 | train loss: 0.200 | train accuracy: 96.52% | train f1: 0.97 | test loss: 0.972 | test accuracy: 76.30% | test f1: 0.76 | time: 224.37s\n",
      "Epoch 25 | train loss: 0.195 | train accuracy: 92.44% | train f1: 0.92 | test loss: 1.131 | test accuracy: 74.17% | test f1: 0.74 | time: 233.29s\n"
     ]
    }
   ],
   "source": [
    "EPOCHS = 25\n",
    "\n",
    "total_time = 0\n",
    "\n",
    "max_f1 = -float('inf')\n",
    "\n",
    "log = []\n",
    "\n",
    "for epoch in range(EPOCHS):\n",
    "    begin = time.time()\n",
    "    \n",
    "    cnn4.train(True)\n",
    "    average_train_loss = train_one_epoch(cnn4, optimizer, loss_fn, trainloader)\n",
    "    \n",
    "    end = time.time()\n",
    "    total_time += end-begin\n",
    "\n",
    "    cnn4.eval()\n",
    "    running_test_loss = 0.\n",
    "    for i, data in enumerate(testloader):\n",
    "        inputs, labels = data\n",
    "        outputs = cnn4(inputs.to(device))\n",
    "        loss = loss_fn(outputs, labels.to(device))\n",
    "        running_test_loss += loss.item()\n",
    "    average_test_loss = running_test_loss/(i+1)\n",
    "    end = time.time()\n",
    "    if (epoch+1)%1 == 0:\n",
    "        train_accuracy, train_f1, _, _ = evaluate(cifar10Train, cnn4)\n",
    "        test_accuracy, test_f1, _, _ = evaluate(cifar10Test, cnn4)\n",
    "        if test_f1 > max_f1:\n",
    "            max_f1 = test_f1\n",
    "            save_model(cnn4, './models/cnn4_3.pth')\n",
    "        log.append({'average_test_loss': average_test_loss, 'average_train_loss': average_train_loss, 'total_time': total_time, 'train_accuracy': train_accuracy, 'train_f1': train_f1, 'test_accuracy': test_accuracy, 'test_f1': test_f1})\n",
    "        print(f\"Epoch {epoch+1} | train loss: {average_train_loss:.3f} | train accuracy: {100*train_accuracy:.2f}% | train f1: {train_f1:.2f} | test loss: {average_test_loss:.3f} | test accuracy: {100*test_accuracy:.2f}% | test f1: {test_f1:.2f} | time: {total_time:.2f}s\")"
   ]
  },
  {
   "cell_type": "code",
   "execution_count": 10,
   "id": "0c7a4e8c",
   "metadata": {},
   "outputs": [],
   "source": [
    "import pickle\n",
    "\n",
    "pickle.dump(log, open('./logs/cnn4_3.pkl', 'wb'))"
   ]
  },
  {
   "cell_type": "code",
   "execution_count": null,
   "id": "6cc62e92",
   "metadata": {},
   "outputs": [],
   "source": []
  }
 ],
 "metadata": {
  "kernelspec": {
   "display_name": "env",
   "language": "python",
   "name": "env"
  },
  "language_info": {
   "codemirror_mode": {
    "name": "ipython",
    "version": 3
   },
   "file_extension": ".py",
   "mimetype": "text/x-python",
   "name": "python",
   "nbconvert_exporter": "python",
   "pygments_lexer": "ipython3",
   "version": "3.8.10"
  }
 },
 "nbformat": 4,
 "nbformat_minor": 5
}
