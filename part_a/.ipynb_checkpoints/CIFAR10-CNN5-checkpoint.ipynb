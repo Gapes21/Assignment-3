{
 "cells": [
  {
   "cell_type": "markdown",
   "id": "309a0e3c",
   "metadata": {},
   "source": [
    "# Dataset\n",
    "\n",
    "CIFAR 10"
   ]
  },
  {
   "cell_type": "code",
   "execution_count": 1,
   "id": "93e13ecd",
   "metadata": {},
   "outputs": [
    {
     "name": "stdout",
     "output_type": "stream",
     "text": [
      "Files already downloaded and verified\n",
      "Files already downloaded and verified\n"
     ]
    }
   ],
   "source": [
    "import torchvision\n",
    "\n",
    "cifar10Train = torchvision.datasets.CIFAR10(\"./CIFAR10\", download=True, transform=lambda im: torchvision.transforms.functional.pil_to_tensor(im)/255)\n",
    "cifar10Test = torchvision.datasets.CIFAR10(\"./CIFAR10\", train=False, download=True, transform=lambda im: torchvision.transforms.functional.pil_to_tensor(im)/255)"
   ]
  },
  {
   "cell_type": "code",
   "execution_count": 2,
   "id": "a2377056",
   "metadata": {},
   "outputs": [],
   "source": [
    "import numpy as np\n",
    "import pandas as pd\n",
    "import time\n",
    "\n",
    "import torch\n",
    "import torch.nn as nn\n",
    "from torch.utils.data import DataLoader\n",
    "import PIL\n",
    "from sklearn.metrics import accuracy_score, f1_score\n",
    "\n",
    "device = 'cuda' if torch.cuda.is_available() else 'cpu'"
   ]
  },
  {
   "cell_type": "markdown",
   "id": "ad470287",
   "metadata": {},
   "source": [
    "# Models"
   ]
  },
  {
   "cell_type": "markdown",
   "id": "3a87a94d",
   "metadata": {},
   "source": [
    "## CNN4.4\n",
    "\n",
    "3 Conv, 2 FC, Dropout=0.4, Batch norm\n",
    "\n",
    "Activation fn: GELU\n",
    "\n",
    "Optimizer: Adam"
   ]
  },
  {
   "cell_type": "code",
   "execution_count": 3,
   "id": "d51879f5",
   "metadata": {},
   "outputs": [],
   "source": [
    "class CNN4(nn.Module):\n",
    "    def __init__(self):\n",
    "        super().__init__()\n",
    "\n",
    "        self.cnn1 = nn.Conv2d(3, 16, (3, 3), padding='same').to(device)\n",
    "        self.bn1 = nn.BatchNorm2d(16)\n",
    "        self.gelu1 = nn.GELU()\n",
    "        self.maxpool1 = nn.MaxPool2d((2, 2), stride=(2, 2)).to(device)\n",
    "\n",
    "        self.cnn2 = nn.Conv2d(16, 32, (3, 3), padding='same').to(device)\n",
    "        self.bn2 = nn.BatchNorm2d(32)\n",
    "        self.gelu2 = nn.GELU()\n",
    "        self.maxpool2 = nn.MaxPool2d((2, 2), stride=(2,2)).to(device)\n",
    "\n",
    "        self.cnn3 = nn.Conv2d(32, 64, (3, 3), padding='same').to(device)\n",
    "        self.bn3 = nn.BatchNorm2d(64)\n",
    "        self.gelu3 = nn.GELU()\n",
    "        self.maxpool3 = nn.MaxPool2d((2, 2), stride=(2,2)).to(device)\n",
    "\n",
    "        self.linear1 = nn.Linear(64 * 4 * 4, 512)\n",
    "        self.gelu4 = nn.GELU()\n",
    "        self.dropout1 = nn.Dropout(0.4)\n",
    "\n",
    "        self.linear2 = nn.Linear(512, 512)\n",
    "        self.gelu5 = nn.GELU()\n",
    "        self.dropout2 = nn.Dropout(0.4)\n",
    "\n",
    "        self.linear3 = nn.Linear(512, 10)\n",
    "\n",
    "    def forward(self, inputs):\n",
    "        x = self.cnn1(inputs)\n",
    "        x = self.bn1(x)\n",
    "        x = self.gelu1(x)\n",
    "        x = self.maxpool1(x)\n",
    "\n",
    "        x = self.cnn2(x)\n",
    "        x = self.bn2(x)\n",
    "        x = self.gelu2(x)\n",
    "        x = self.maxpool2(x)\n",
    "\n",
    "        x = self.cnn3(x)\n",
    "        x = self.bn3(x)\n",
    "        x = self.gelu3(x)\n",
    "        x = self.maxpool3(x)\n",
    "\n",
    "        x = torch.flatten(x, 1)\n",
    "\n",
    "        x = self.linear1(x)\n",
    "        x = self.gelu4(x)\n",
    "        x = self.dropout1(x)\n",
    "\n",
    "        x = self.linear2(x)\n",
    "        x = self.gelu5(x)\n",
    "        x = self.dropout2(x)\n",
    "\n",
    "        x = self.linear3(x)\n",
    "    \n",
    "        return x\n"
   ]
  },
  {
   "cell_type": "code",
   "execution_count": 4,
   "id": "7c620321",
   "metadata": {},
   "outputs": [],
   "source": [
    "trainloader = DataLoader(cifar10Train, 64)\n",
    "testloader = DataLoader(cifar10Test, 64)"
   ]
  },
  {
   "cell_type": "code",
   "execution_count": 5,
   "id": "d6b32c0e",
   "metadata": {},
   "outputs": [],
   "source": [
    "def train_one_epoch(model, optimzer, loss_fn, training_loader):\n",
    "    running_loss = 0.\n",
    "    running_momentum = 0.\n",
    "\n",
    "    for i, data in enumerate(training_loader):\n",
    "        inputs, labels = data\n",
    "\n",
    "        optimizer.zero_grad()\n",
    "\n",
    "        outputs = model(inputs.to(device))\n",
    "\n",
    "        loss = loss_fn(outputs, labels.to(device))\n",
    "        loss.backward()\n",
    "\n",
    "        optimizer.step()\n",
    "           \n",
    "\n",
    "        running_loss += loss.item()\n",
    "\n",
    "        \n",
    "    average_loss = running_loss/(i+1)\n",
    "    \n",
    "\n",
    "    return average_loss"
   ]
  },
  {
   "cell_type": "code",
   "execution_count": 6,
   "id": "4f28d54d",
   "metadata": {},
   "outputs": [],
   "source": [
    "def evaluate(tdataset, model):\n",
    "    model.eval()\n",
    "    preds = []\n",
    "    truths = []\n",
    "    for example in tdataset:\n",
    "        input = example[0].unsqueeze(0).to(device)\n",
    "        logits = model(input)\n",
    "        pred = torch.argmax(torch.softmax(logits, 1))\n",
    "        preds.append(pred.item())\n",
    "        truths.append(example[1])\n",
    "    return accuracy_score(truths, preds), f1_score(truths, preds, average='macro'), preds, truths"
   ]
  },
  {
   "cell_type": "code",
   "execution_count": 7,
   "id": "4c247829",
   "metadata": {},
   "outputs": [],
   "source": [
    "def save_model(model, filepath):\n",
    "    torch.save(model.state_dict(), filepath)\n",
    "\n",
    "def load_model(model, filepath, device='cpu'):\n",
    "    model.load_state_dict(torch.load(filepath, map_location=device))\n",
    "    model.eval()"
   ]
  },
  {
   "cell_type": "code",
   "execution_count": 8,
   "id": "8dfa3b68",
   "metadata": {},
   "outputs": [],
   "source": [
    "cnn4 = CNN4().to(device)\n",
    "\n",
    "optimizer = torch.optim.Adam(cnn4.parameters(), lr=1e-3)\n",
    "loss_fn = nn.CrossEntropyLoss()"
   ]
  },
  {
   "cell_type": "code",
   "execution_count": 9,
   "id": "6b66be08",
   "metadata": {},
   "outputs": [
    {
     "name": "stdout",
     "output_type": "stream",
     "text": [
      "Epoch 1 | train loss: 1.305 | train accuracy: 63.51% | train f1: 0.63 | test loss: 1.058 | test accuracy: 62.01% | test f1: 0.61 | time: 12.03s\n",
      "Epoch 2 | train loss: 0.939 | train accuracy: 74.49% | train f1: 0.74 | test loss: 0.817 | test accuracy: 71.47% | test f1: 0.71 | time: 21.20s\n",
      "Epoch 3 | train loss: 0.792 | train accuracy: 76.99% | train f1: 0.77 | test loss: 0.786 | test accuracy: 72.80% | test f1: 0.72 | time: 30.45s\n",
      "Epoch 4 | train loss: 0.685 | train accuracy: 79.42% | train f1: 0.79 | test loss: 0.762 | test accuracy: 73.33% | test f1: 0.73 | time: 39.64s\n",
      "Epoch 5 | train loss: 0.604 | train accuracy: 81.82% | train f1: 0.82 | test loss: 0.786 | test accuracy: 73.72% | test f1: 0.74 | time: 48.87s\n",
      "Epoch 6 | train loss: 0.529 | train accuracy: 82.89% | train f1: 0.83 | test loss: 0.795 | test accuracy: 73.96% | test f1: 0.74 | time: 58.07s\n",
      "Epoch 7 | train loss: 0.472 | train accuracy: 85.44% | train f1: 0.85 | test loss: 0.790 | test accuracy: 74.55% | test f1: 0.74 | time: 67.40s\n",
      "Epoch 8 | train loss: 0.413 | train accuracy: 87.09% | train f1: 0.87 | test loss: 0.822 | test accuracy: 74.59% | test f1: 0.75 | time: 76.74s\n",
      "Epoch 9 | train loss: 0.362 | train accuracy: 88.27% | train f1: 0.89 | test loss: 0.878 | test accuracy: 74.13% | test f1: 0.75 | time: 85.87s\n",
      "Epoch 10 | train loss: 0.331 | train accuracy: 88.07% | train f1: 0.88 | test loss: 0.948 | test accuracy: 73.21% | test f1: 0.74 | time: 94.97s\n",
      "Epoch 11 | train loss: 0.286 | train accuracy: 89.22% | train f1: 0.89 | test loss: 0.993 | test accuracy: 73.40% | test f1: 0.74 | time: 104.09s\n",
      "Epoch 12 | train loss: 0.260 | train accuracy: 93.88% | train f1: 0.94 | test loss: 0.900 | test accuracy: 75.97% | test f1: 0.76 | time: 113.27s\n",
      "Epoch 13 | train loss: 0.233 | train accuracy: 92.84% | train f1: 0.93 | test loss: 0.980 | test accuracy: 74.86% | test f1: 0.75 | time: 122.39s\n",
      "Epoch 14 | train loss: 0.215 | train accuracy: 94.58% | train f1: 0.95 | test loss: 0.972 | test accuracy: 75.56% | test f1: 0.76 | time: 131.52s\n",
      "Epoch 15 | train loss: 0.201 | train accuracy: 93.83% | train f1: 0.94 | test loss: 1.060 | test accuracy: 74.72% | test f1: 0.75 | time: 140.59s\n",
      "Epoch 16 | train loss: 0.190 | train accuracy: 96.62% | train f1: 0.97 | test loss: 0.952 | test accuracy: 76.49% | test f1: 0.76 | time: 149.62s\n",
      "Epoch 17 | train loss: 0.177 | train accuracy: 95.81% | train f1: 0.96 | test loss: 1.066 | test accuracy: 75.65% | test f1: 0.76 | time: 158.67s\n",
      "Epoch 18 | train loss: 0.167 | train accuracy: 97.29% | train f1: 0.97 | test loss: 1.032 | test accuracy: 76.58% | test f1: 0.76 | time: 167.72s\n",
      "Epoch 19 | train loss: 0.158 | train accuracy: 97.02% | train f1: 0.97 | test loss: 1.033 | test accuracy: 76.15% | test f1: 0.76 | time: 176.72s\n",
      "Epoch 20 | train loss: 0.152 | train accuracy: 96.52% | train f1: 0.97 | test loss: 1.128 | test accuracy: 75.81% | test f1: 0.76 | time: 185.64s\n",
      "Epoch 21 | train loss: 0.149 | train accuracy: 97.91% | train f1: 0.98 | test loss: 1.025 | test accuracy: 77.17% | test f1: 0.77 | time: 194.52s\n",
      "Epoch 22 | train loss: 0.139 | train accuracy: 98.46% | train f1: 0.98 | test loss: 1.022 | test accuracy: 77.21% | test f1: 0.77 | time: 203.42s\n",
      "Epoch 23 | train loss: 0.139 | train accuracy: 95.02% | train f1: 0.95 | test loss: 1.176 | test accuracy: 74.91% | test f1: 0.75 | time: 212.28s\n",
      "Epoch 24 | train loss: 0.132 | train accuracy: 98.71% | train f1: 0.99 | test loss: 1.020 | test accuracy: 77.37% | test f1: 0.77 | time: 221.31s\n",
      "Epoch 25 | train loss: 0.125 | train accuracy: 97.50% | train f1: 0.98 | test loss: 1.131 | test accuracy: 76.01% | test f1: 0.76 | time: 230.15s\n"
     ]
    }
   ],
   "source": [
    "EPOCHS = 25\n",
    "\n",
    "total_time = 0\n",
    "\n",
    "max_f1 = -float('inf')\n",
    "\n",
    "log = []\n",
    "\n",
    "for epoch in range(EPOCHS):\n",
    "    begin = time.time()\n",
    "    \n",
    "    cnn4.train(True)\n",
    "    average_train_loss = train_one_epoch(cnn4, optimizer, loss_fn, trainloader)\n",
    "    \n",
    "    end = time.time()\n",
    "    total_time += end-begin\n",
    "\n",
    "    cnn4.eval()\n",
    "    running_test_loss = 0.\n",
    "    for i, data in enumerate(testloader):\n",
    "        inputs, labels = data\n",
    "        outputs = cnn4(inputs.to(device))\n",
    "        loss = loss_fn(outputs, labels.to(device))\n",
    "        running_test_loss += loss.item()\n",
    "    average_test_loss = running_test_loss/(i+1)\n",
    "    end = time.time()\n",
    "    if (epoch+1)%1 == 0:\n",
    "        train_accuracy, train_f1, _, _ = evaluate(cifar10Train, cnn4)\n",
    "        test_accuracy, test_f1, _, _ = evaluate(cifar10Test, cnn4)\n",
    "        if test_f1 > max_f1:\n",
    "            max_f1 = test_f1\n",
    "            save_model(cnn4, './models/cnn4_4.pth')\n",
    "        log.append({'average_test_loss': average_test_loss, 'average_train_loss': average_train_loss, 'total_time': total_time, 'train_accuracy': train_accuracy, 'train_f1': train_f1, 'test_accuracy': test_accuracy, 'test_f1': test_f1})\n",
    "        print(f\"Epoch {epoch+1} | train loss: {average_train_loss:.3f} | train accuracy: {100*train_accuracy:.2f}% | train f1: {train_f1:.2f} | test loss: {average_test_loss:.3f} | test accuracy: {100*test_accuracy:.2f}% | test f1: {test_f1:.2f} | time: {total_time:.2f}s\")"
   ]
  },
  {
   "cell_type": "code",
   "execution_count": 10,
   "id": "0c7a4e8c",
   "metadata": {},
   "outputs": [],
   "source": [
    "import pickle\n",
    "\n",
    "pickle.dump(log, open('./logs/cnn4_4.pkl', 'wb'))"
   ]
  },
  {
   "cell_type": "code",
   "execution_count": null,
   "id": "6cc62e92",
   "metadata": {},
   "outputs": [],
   "source": []
  }
 ],
 "metadata": {
  "kernelspec": {
   "display_name": "env",
   "language": "python",
   "name": "env"
  },
  "language_info": {
   "codemirror_mode": {
    "name": "ipython",
    "version": 3
   },
   "file_extension": ".py",
   "mimetype": "text/x-python",
   "name": "python",
   "nbconvert_exporter": "python",
   "pygments_lexer": "ipython3",
   "version": "3.8.10"
  }
 },
 "nbformat": 4,
 "nbformat_minor": 5
}
