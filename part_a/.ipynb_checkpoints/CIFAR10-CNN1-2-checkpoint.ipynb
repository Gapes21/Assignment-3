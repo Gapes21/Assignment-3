{
 "cells": [
  {
   "cell_type": "markdown",
   "id": "309a0e3c",
   "metadata": {},
   "source": [
    "# Dataset\n",
    "\n",
    "CIFAR 10"
   ]
  },
  {
   "cell_type": "code",
   "execution_count": 1,
   "id": "93e13ecd",
   "metadata": {},
   "outputs": [
    {
     "name": "stdout",
     "output_type": "stream",
     "text": [
      "Files already downloaded and verified\n",
      "Files already downloaded and verified\n"
     ]
    }
   ],
   "source": [
    "import torchvision\n",
    "\n",
    "cifar10Train = torchvision.datasets.CIFAR10(\"./CIFAR10\", download=True, transform=lambda im: torchvision.transforms.functional.pil_to_tensor(im)/255)\n",
    "cifar10Test = torchvision.datasets.CIFAR10(\"./CIFAR10\", train=False, download=True, transform=lambda im: torchvision.transforms.functional.pil_to_tensor(im)/255)"
   ]
  },
  {
   "cell_type": "code",
   "execution_count": 2,
   "id": "a2377056",
   "metadata": {},
   "outputs": [],
   "source": [
    "import numpy as np\n",
    "import pandas as pd\n",
    "import time\n",
    "\n",
    "import torch\n",
    "import torch.nn as nn\n",
    "from torch.utils.data import DataLoader\n",
    "import PIL\n",
    "from sklearn.metrics import accuracy_score, f1_score\n",
    "\n",
    "device = 'cuda' if torch.cuda.is_available() else 'cpu'"
   ]
  },
  {
   "cell_type": "markdown",
   "id": "ad470287",
   "metadata": {},
   "source": [
    "# Models"
   ]
  },
  {
   "cell_type": "markdown",
   "id": "3a87a94d",
   "metadata": {},
   "source": [
    "## CNN1.2\n",
    "\n",
    "3 Conv, 2 FC, No dropout, no batch norm\n",
    "\n",
    "Activation fn: ReLU\n",
    "\n",
    "Optimizer: Adam"
   ]
  },
  {
   "cell_type": "code",
   "execution_count": 3,
   "id": "d51879f5",
   "metadata": {},
   "outputs": [],
   "source": [
    "class CNN1(nn.Module):\n",
    "    def __init__(self):\n",
    "        super().__init__()\n",
    "\n",
    "        self.cnn1 = nn.Conv2d(3, 16, (3, 3), padding='same').to(device)\n",
    "        self.relu1 = nn.ReLU()\n",
    "        self.maxpool1 = nn.MaxPool2d((2, 2), stride=(2, 2)).to(device)\n",
    "\n",
    "        self.cnn2 = nn.Conv2d(16, 32, (3, 3), padding='same').to(device)\n",
    "        self.relu2 = nn.ReLU()\n",
    "        self.maxpool2 = nn.MaxPool2d((2, 2), stride=(2,2)).to(device)\n",
    "\n",
    "        self.cnn3 = nn.Conv2d(32, 64, (3, 3), padding='same').to(device)\n",
    "        self.relu3 = nn.ReLU()\n",
    "        self.maxpool3 = nn.MaxPool2d((2, 2), stride=(2,2)).to(device)\n",
    "\n",
    "        self.linear1 = nn.Linear(64 * 4 * 4, 512)\n",
    "        self.relu4 = nn.ReLU()\n",
    "\n",
    "        self.linear2 = nn.Linear(512, 512)\n",
    "        self.relu5 = nn.ReLU()\n",
    "\n",
    "        self.linear3 = nn.Linear(512, 10)\n",
    "\n",
    "    def forward(self, inputs):\n",
    "        x = self.cnn1(inputs)\n",
    "        x = self.relu1(x)\n",
    "        x = self.maxpool1(x)\n",
    "\n",
    "        x = self.cnn2(x)\n",
    "        x = self.relu2(x)\n",
    "        x = self.maxpool2(x)\n",
    "\n",
    "        x = self.cnn3(x)\n",
    "        x = self.relu3(x)\n",
    "        x = self.maxpool3(x)\n",
    "\n",
    "        x = torch.flatten(x, 1)\n",
    "\n",
    "        x = self.linear1(x)\n",
    "        x = self.relu4(x)\n",
    "\n",
    "        x = self.linear2(x)\n",
    "        x = self.relu5(x)\n",
    "\n",
    "        x = self.linear3(x)\n",
    "    \n",
    "        return x\n"
   ]
  },
  {
   "cell_type": "code",
   "execution_count": 4,
   "id": "7c620321",
   "metadata": {},
   "outputs": [],
   "source": [
    "trainloader = DataLoader(cifar10Train, 64)\n",
    "testloader = DataLoader(cifar10Test, 64)"
   ]
  },
  {
   "cell_type": "code",
   "execution_count": 5,
   "id": "d6b32c0e",
   "metadata": {},
   "outputs": [],
   "source": [
    "def train_one_epoch(model, optimzer, loss_fn, training_loader):\n",
    "    running_loss = 0.\n",
    "    running_momentum = 0.\n",
    "\n",
    "    for i, data in enumerate(training_loader):\n",
    "        inputs, labels = data\n",
    "\n",
    "        optimizer.zero_grad()\n",
    "\n",
    "        outputs = model(inputs.to(device))\n",
    "\n",
    "        loss = loss_fn(outputs, labels.to(device))\n",
    "        loss.backward()\n",
    "\n",
    "        optimizer.step()\n",
    "           \n",
    "\n",
    "        running_loss += loss.item()\n",
    "\n",
    "        \n",
    "    average_loss = running_loss/(i+1)\n",
    "    \n",
    "\n",
    "    return average_loss"
   ]
  },
  {
   "cell_type": "code",
   "execution_count": 6,
   "id": "4f28d54d",
   "metadata": {},
   "outputs": [],
   "source": [
    "def evaluate(tdataset, model):\n",
    "    model.eval()\n",
    "    preds = []\n",
    "    truths = []\n",
    "    for example in tdataset:\n",
    "        input = example[0].unsqueeze(0).to(device)\n",
    "        logits = model(input)\n",
    "        pred = torch.argmax(torch.softmax(logits, 1))\n",
    "        preds.append(pred.item())\n",
    "        truths.append(example[1])\n",
    "    return accuracy_score(truths, preds), f1_score(truths, preds, average='macro'), preds, truths"
   ]
  },
  {
   "cell_type": "code",
   "execution_count": 7,
   "id": "4c247829",
   "metadata": {},
   "outputs": [],
   "source": [
    "def save_model(model, filepath):\n",
    "    torch.save(model.state_dict(), filepath)\n",
    "\n",
    "def load_model(model, filepath, device='cpu'):\n",
    "    model.load_state_dict(torch.load(filepath, map_location=device))\n",
    "    model.eval()"
   ]
  },
  {
   "cell_type": "code",
   "execution_count": 8,
   "id": "8dfa3b68",
   "metadata": {},
   "outputs": [
    {
     "name": "stderr",
     "output_type": "stream",
     "text": [
      "/home/aparna/whisper_transcription/env/lib/python3.8/site-packages/torch/cuda/__init__.py:546: UserWarning: Can't initialize NVML\n",
      "  warnings.warn(\"Can't initialize NVML\")\n"
     ]
    }
   ],
   "source": [
    "cnn1 = CNN1().to(device)\n",
    "\n",
    "optimizer = torch.optim.Adam(cnn1.parameters(), lr=1e-3)\n",
    "loss_fn = nn.CrossEntropyLoss()"
   ]
  },
  {
   "cell_type": "code",
   "execution_count": 9,
   "id": "6b66be08",
   "metadata": {},
   "outputs": [
    {
     "name": "stdout",
     "output_type": "stream",
     "text": [
      "Epoch 1 | train loss: 1.603 | train accuracy: 53.24% | train f1: 0.52 | test loss: 1.302 | test accuracy: 52.44% | test f1: 0.52 | time: 11.85s\n",
      "Epoch 2 | train loss: 1.177 | train accuracy: 63.91% | train f1: 0.64 | test loss: 1.068 | test accuracy: 61.68% | test f1: 0.61 | time: 81.72s\n",
      "Epoch 3 | train loss: 0.985 | train accuracy: 68.35% | train f1: 0.69 | test loss: 1.014 | test accuracy: 64.65% | test f1: 0.65 | time: 151.55s\n",
      "Epoch 4 | train loss: 0.855 | train accuracy: 71.02% | train f1: 0.72 | test loss: 1.019 | test accuracy: 65.40% | test f1: 0.66 | time: 221.47s\n",
      "Epoch 5 | train loss: 0.750 | train accuracy: 75.60% | train f1: 0.76 | test loss: 0.955 | test accuracy: 67.89% | test f1: 0.68 | time: 291.82s\n",
      "Epoch 6 | train loss: 0.658 | train accuracy: 77.62% | train f1: 0.78 | test loss: 0.994 | test accuracy: 67.99% | test f1: 0.69 | time: 362.33s\n",
      "Epoch 7 | train loss: 0.588 | train accuracy: 79.66% | train f1: 0.80 | test loss: 1.054 | test accuracy: 68.17% | test f1: 0.69 | time: 433.26s\n",
      "Epoch 8 | train loss: 0.527 | train accuracy: 80.52% | train f1: 0.81 | test loss: 1.096 | test accuracy: 67.22% | test f1: 0.68 | time: 511.08s\n",
      "Epoch 9 | train loss: 0.474 | train accuracy: 82.90% | train f1: 0.83 | test loss: 1.112 | test accuracy: 67.68% | test f1: 0.68 | time: 589.10s\n",
      "Epoch 10 | train loss: 0.413 | train accuracy: 82.85% | train f1: 0.83 | test loss: 1.266 | test accuracy: 67.21% | test f1: 0.67 | time: 666.82s\n",
      "Epoch 11 | train loss: 0.364 | train accuracy: 85.83% | train f1: 0.86 | test loss: 1.297 | test accuracy: 68.13% | test f1: 0.68 | time: 744.06s\n",
      "Epoch 12 | train loss: 0.313 | train accuracy: 85.58% | train f1: 0.85 | test loss: 1.473 | test accuracy: 67.37% | test f1: 0.67 | time: 821.46s\n",
      "Epoch 13 | train loss: 0.280 | train accuracy: 87.40% | train f1: 0.87 | test loss: 1.502 | test accuracy: 67.28% | test f1: 0.68 | time: 898.61s\n",
      "Epoch 14 | train loss: 0.250 | train accuracy: 88.09% | train f1: 0.88 | test loss: 1.536 | test accuracy: 67.91% | test f1: 0.68 | time: 976.08s\n",
      "Epoch 15 | train loss: 0.224 | train accuracy: 86.95% | train f1: 0.87 | test loss: 1.612 | test accuracy: 67.07% | test f1: 0.67 | time: 1053.43s\n",
      "Epoch 16 | train loss: 0.199 | train accuracy: 88.60% | train f1: 0.89 | test loss: 1.763 | test accuracy: 67.11% | test f1: 0.67 | time: 1131.60s\n",
      "Epoch 17 | train loss: 0.170 | train accuracy: 90.10% | train f1: 0.90 | test loss: 1.902 | test accuracy: 67.14% | test f1: 0.67 | time: 1210.15s\n",
      "Epoch 18 | train loss: 0.162 | train accuracy: 87.95% | train f1: 0.88 | test loss: 2.164 | test accuracy: 65.93% | test f1: 0.66 | time: 1288.89s\n",
      "Epoch 19 | train loss: 0.144 | train accuracy: 90.12% | train f1: 0.90 | test loss: 2.051 | test accuracy: 66.68% | test f1: 0.67 | time: 1366.95s\n",
      "Epoch 20 | train loss: 0.135 | train accuracy: 92.44% | train f1: 0.92 | test loss: 2.056 | test accuracy: 66.92% | test f1: 0.67 | time: 1444.54s\n"
     ]
    }
   ],
   "source": [
    "EPOCHS = 20\n",
    "\n",
    "begin = time.time()\n",
    "\n",
    "max_f1 = -float('inf')\n",
    "\n",
    "log = []\n",
    "\n",
    "for epoch in range(EPOCHS):\n",
    "    cnn1.train(True)\n",
    "    average_train_loss = train_one_epoch(cnn1, optimizer, loss_fn, trainloader)\n",
    "\n",
    "    cnn1.eval()\n",
    "    running_test_loss = 0.\n",
    "    for i, data in enumerate(testloader):\n",
    "        inputs, labels = data\n",
    "        outputs = cnn1(inputs.to(device))\n",
    "        loss = loss_fn(outputs, labels.to(device))\n",
    "        running_test_loss += loss.item()\n",
    "    average_test_loss = running_test_loss/(i+1)\n",
    "    end = time.time()\n",
    "    log.append({'average_test_loss': average_test_loss, 'average_train_loss': average_train_loss, 'time_from_start': end-begin})\n",
    "    if (epoch+1)%1 == 0:\n",
    "        train_accuracy, train_f1, _, _ = evaluate(cifar10Train, cnn1)\n",
    "        test_accuracy, test_f1, _, _ = evaluate(cifar10Test, cnn1)\n",
    "        if test_f1 > max_f1:\n",
    "            max_f1 = test_f1\n",
    "            save_model(cnn1, './models/cnn1-2.pth')\n",
    "        print(f\"Epoch {epoch+1} | train loss: {average_train_loss:.3f} | train accuracy: {100*train_accuracy:.2f}% | train f1: {train_f1:.2f} | test loss: {average_test_loss:.3f} | test accuracy: {100*test_accuracy:.2f}% | test f1: {test_f1:.2f} | time: {end-begin:.2f}s\")"
   ]
  },
  {
   "cell_type": "code",
   "execution_count": 10,
   "id": "0c7a4e8c",
   "metadata": {},
   "outputs": [],
   "source": [
    "import pickle\n",
    "\n",
    "pickle.dump(log, open('./logs/cnn1-2.pkl', 'wb'))"
   ]
  },
  {
   "cell_type": "code",
   "execution_count": null,
   "id": "eef98331",
   "metadata": {},
   "outputs": [],
   "source": []
  }
 ],
 "metadata": {
  "kernelspec": {
   "display_name": "env",
   "language": "python",
   "name": "env"
  },
  "language_info": {
   "codemirror_mode": {
    "name": "ipython",
    "version": 3
   },
   "file_extension": ".py",
   "mimetype": "text/x-python",
   "name": "python",
   "nbconvert_exporter": "python",
   "pygments_lexer": "ipython3",
   "version": "3.8.10"
  }
 },
 "nbformat": 4,
 "nbformat_minor": 5
}
