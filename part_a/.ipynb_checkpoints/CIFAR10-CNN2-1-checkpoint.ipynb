{
 "cells": [
  {
   "cell_type": "markdown",
   "id": "309a0e3c",
   "metadata": {},
   "source": [
    "# Dataset\n",
    "\n",
    "CIFAR 10"
   ]
  },
  {
   "cell_type": "code",
   "execution_count": 1,
   "id": "93e13ecd",
   "metadata": {},
   "outputs": [
    {
     "name": "stdout",
     "output_type": "stream",
     "text": [
      "Files already downloaded and verified\n",
      "Files already downloaded and verified\n"
     ]
    }
   ],
   "source": [
    "import torchvision\n",
    "\n",
    "cifar10Train = torchvision.datasets.CIFAR10(\"./CIFAR10\", download=True, transform=lambda im: torchvision.transforms.functional.pil_to_tensor(im)/255)\n",
    "cifar10Test = torchvision.datasets.CIFAR10(\"./CIFAR10\", train=False, download=True, transform=lambda im: torchvision.transforms.functional.pil_to_tensor(im)/255)"
   ]
  },
  {
   "cell_type": "code",
   "execution_count": 2,
   "id": "a2377056",
   "metadata": {},
   "outputs": [],
   "source": [
    "import numpy as np\n",
    "import pandas as pd\n",
    "import time\n",
    "\n",
    "import torch\n",
    "import torch.nn as nn\n",
    "from torch.utils.data import DataLoader\n",
    "import PIL\n",
    "from sklearn.metrics import accuracy_score, f1_score\n",
    "\n",
    "device = 'cuda' if torch.cuda.is_available() else 'cpu'"
   ]
  },
  {
   "cell_type": "markdown",
   "id": "ad470287",
   "metadata": {},
   "source": [
    "# Models"
   ]
  },
  {
   "cell_type": "markdown",
   "id": "3a87a94d",
   "metadata": {},
   "source": [
    "## CNN2.1\n",
    "\n",
    "3 Conv, 2 FC, Dropout=0.2, no batch norm\n",
    "\n",
    "Activation fn: ReLU\n",
    "\n",
    "Optimizer: Adam"
   ]
  },
  {
   "cell_type": "code",
   "execution_count": 3,
   "id": "d51879f5",
   "metadata": {},
   "outputs": [],
   "source": [
    "class CNN2(nn.Module):\n",
    "    def __init__(self):\n",
    "        super().__init__()\n",
    "\n",
    "        self.cnn1 = nn.Conv2d(3, 16, (3, 3), padding='same').to(device)\n",
    "        self.relu1 = nn.ReLU()\n",
    "        self.maxpool1 = nn.MaxPool2d((2, 2), stride=(2, 2)).to(device)\n",
    "\n",
    "        self.cnn2 = nn.Conv2d(16, 32, (3, 3), padding='same').to(device)\n",
    "        self.relu2 = nn.ReLU()\n",
    "        self.maxpool2 = nn.MaxPool2d((2, 2), stride=(2,2)).to(device)\n",
    "\n",
    "        self.cnn3 = nn.Conv2d(32, 64, (3, 3), padding='same').to(device)\n",
    "        self.relu3 = nn.ReLU()\n",
    "        self.maxpool3 = nn.MaxPool2d((2, 2), stride=(2,2)).to(device)\n",
    "\n",
    "        self.linear1 = nn.Linear(64 * 4 * 4, 512)\n",
    "        self.relu4 = nn.ReLU()\n",
    "        self.dropout1 = nn.Dropout(0.2)\n",
    "\n",
    "        self.linear2 = nn.Linear(512, 512)\n",
    "        self.relu5 = nn.ReLU()\n",
    "        self.dropout2 = nn.Dropout(0.2)\n",
    "\n",
    "        self.linear3 = nn.Linear(512, 10)\n",
    "\n",
    "    def forward(self, inputs):\n",
    "        x = self.cnn1(inputs)\n",
    "        x = self.relu1(x)\n",
    "        x = self.maxpool1(x)\n",
    "\n",
    "        x = self.cnn2(x)\n",
    "        x = self.relu2(x)\n",
    "        x = self.maxpool2(x)\n",
    "\n",
    "        x = self.cnn3(x)\n",
    "        x = self.relu3(x)\n",
    "        x = self.maxpool3(x)\n",
    "\n",
    "        x = torch.flatten(x, 1)\n",
    "\n",
    "        x = self.linear1(x)\n",
    "        x = self.relu4(x)\n",
    "        x = self.dropout1(x)\n",
    "\n",
    "        x = self.linear2(x)\n",
    "        x = self.relu5(x)\n",
    "        x = self.dropout2(x)\n",
    "\n",
    "        x = self.linear3(x)\n",
    "    \n",
    "        return x\n"
   ]
  },
  {
   "cell_type": "code",
   "execution_count": 4,
   "id": "7c620321",
   "metadata": {},
   "outputs": [],
   "source": [
    "trainloader = DataLoader(cifar10Train, 64)\n",
    "testloader = DataLoader(cifar10Test, 64)"
   ]
  },
  {
   "cell_type": "code",
   "execution_count": 5,
   "id": "d6b32c0e",
   "metadata": {},
   "outputs": [],
   "source": [
    "def train_one_epoch(model, optimzer, loss_fn, training_loader):\n",
    "    running_loss = 0.\n",
    "    running_momentum = 0.\n",
    "\n",
    "    for i, data in enumerate(training_loader):\n",
    "        inputs, labels = data\n",
    "\n",
    "        optimizer.zero_grad()\n",
    "\n",
    "        outputs = model(inputs.to(device))\n",
    "\n",
    "        loss = loss_fn(outputs, labels.to(device))\n",
    "        loss.backward()\n",
    "\n",
    "        optimizer.step()\n",
    "           \n",
    "\n",
    "        running_loss += loss.item()\n",
    "\n",
    "        \n",
    "    average_loss = running_loss/(i+1)\n",
    "    \n",
    "\n",
    "    return average_loss"
   ]
  },
  {
   "cell_type": "code",
   "execution_count": 6,
   "id": "4f28d54d",
   "metadata": {},
   "outputs": [],
   "source": [
    "def evaluate(tdataset, model):\n",
    "    model.eval()\n",
    "    preds = []\n",
    "    truths = []\n",
    "    for example in tdataset:\n",
    "        input = example[0].unsqueeze(0).to(device)\n",
    "        logits = model(input)\n",
    "        pred = torch.argmax(torch.softmax(logits, 1))\n",
    "        preds.append(pred.item())\n",
    "        truths.append(example[1])\n",
    "    return accuracy_score(truths, preds), f1_score(truths, preds, average='macro'), preds, truths"
   ]
  },
  {
   "cell_type": "code",
   "execution_count": 7,
   "id": "4c247829",
   "metadata": {},
   "outputs": [],
   "source": [
    "def save_model(model, filepath):\n",
    "    torch.save(model.state_dict(), filepath)\n",
    "\n",
    "def load_model(model, filepath, device='cpu'):\n",
    "    model.load_state_dict(torch.load(filepath, map_location=device))\n",
    "    model.eval()"
   ]
  },
  {
   "cell_type": "code",
   "execution_count": 8,
   "id": "8dfa3b68",
   "metadata": {},
   "outputs": [],
   "source": [
    "cnn2 = CNN2().to(device)\n",
    "\n",
    "optimizer = torch.optim.Adam(cnn2.parameters(), lr=1e-3)\n",
    "loss_fn = nn.CrossEntropyLoss()"
   ]
  },
  {
   "cell_type": "code",
   "execution_count": 9,
   "id": "6b66be08",
   "metadata": {},
   "outputs": [
    {
     "name": "stdout",
     "output_type": "stream",
     "text": [
      "Epoch 1 | train loss: 1.615 | train accuracy: 0.53% | train f1: 0.52 | test loss: 1.310 | test accuracy: 0.52% | test f1: 0.51 | time: 13.77s\n",
      "Epoch 2 | train loss: 1.214 | train accuracy: 0.63% | train f1: 0.62 | test loss: 1.083 | test accuracy: 0.61% | test f1: 0.60 | time: 22.50s\n",
      "Epoch 3 | train loss: 1.025 | train accuracy: 0.69% | train f1: 0.69 | test loss: 0.979 | test accuracy: 0.65% | test f1: 0.65 | time: 31.23s\n",
      "Epoch 4 | train loss: 0.903 | train accuracy: 0.73% | train f1: 0.73 | test loss: 0.909 | test accuracy: 0.68% | test f1: 0.68 | time: 39.99s\n",
      "Epoch 5 | train loss: 0.816 | train accuracy: 0.74% | train f1: 0.74 | test loss: 0.929 | test accuracy: 0.68% | test f1: 0.68 | time: 48.69s\n",
      "Epoch 6 | train loss: 0.744 | train accuracy: 0.77% | train f1: 0.77 | test loss: 0.901 | test accuracy: 0.70% | test f1: 0.70 | time: 57.26s\n",
      "Epoch 7 | train loss: 0.674 | train accuracy: 0.79% | train f1: 0.79 | test loss: 0.894 | test accuracy: 0.71% | test f1: 0.70 | time: 66.03s\n",
      "Epoch 8 | train loss: 0.623 | train accuracy: 0.81% | train f1: 0.81 | test loss: 0.926 | test accuracy: 0.70% | test f1: 0.70 | time: 74.81s\n",
      "Epoch 9 | train loss: 0.571 | train accuracy: 0.84% | train f1: 0.84 | test loss: 0.915 | test accuracy: 0.71% | test f1: 0.71 | time: 83.48s\n",
      "Epoch 10 | train loss: 0.529 | train accuracy: 0.85% | train f1: 0.85 | test loss: 0.924 | test accuracy: 0.71% | test f1: 0.71 | time: 92.12s\n",
      "Epoch 11 | train loss: 0.502 | train accuracy: 0.86% | train f1: 0.85 | test loss: 0.978 | test accuracy: 0.71% | test f1: 0.71 | time: 100.74s\n",
      "Epoch 12 | train loss: 0.476 | train accuracy: 0.87% | train f1: 0.87 | test loss: 0.979 | test accuracy: 0.71% | test f1: 0.71 | time: 109.57s\n",
      "Epoch 13 | train loss: 0.447 | train accuracy: 0.87% | train f1: 0.87 | test loss: 1.035 | test accuracy: 0.70% | test f1: 0.70 | time: 118.41s\n",
      "Epoch 14 | train loss: 0.419 | train accuracy: 0.87% | train f1: 0.87 | test loss: 1.036 | test accuracy: 0.70% | test f1: 0.70 | time: 127.04s\n",
      "Epoch 15 | train loss: 0.392 | train accuracy: 0.88% | train f1: 0.88 | test loss: 1.098 | test accuracy: 0.71% | test f1: 0.70 | time: 135.52s\n",
      "Epoch 16 | train loss: 0.365 | train accuracy: 0.89% | train f1: 0.89 | test loss: 1.127 | test accuracy: 0.70% | test f1: 0.70 | time: 144.32s\n",
      "Epoch 17 | train loss: 0.343 | train accuracy: 0.91% | train f1: 0.91 | test loss: 1.132 | test accuracy: 0.71% | test f1: 0.71 | time: 153.06s\n",
      "Epoch 18 | train loss: 0.324 | train accuracy: 0.90% | train f1: 0.90 | test loss: 1.181 | test accuracy: 0.71% | test f1: 0.70 | time: 161.60s\n",
      "Epoch 19 | train loss: 0.308 | train accuracy: 0.93% | train f1: 0.93 | test loss: 1.169 | test accuracy: 0.72% | test f1: 0.71 | time: 170.18s\n",
      "Epoch 20 | train loss: 0.302 | train accuracy: 0.93% | train f1: 0.92 | test loss: 1.185 | test accuracy: 0.71% | test f1: 0.71 | time: 178.87s\n",
      "Epoch 21 | train loss: 0.292 | train accuracy: 0.92% | train f1: 0.92 | test loss: 1.236 | test accuracy: 0.71% | test f1: 0.71 | time: 187.65s\n",
      "Epoch 22 | train loss: 0.275 | train accuracy: 0.92% | train f1: 0.92 | test loss: 1.304 | test accuracy: 0.71% | test f1: 0.71 | time: 196.28s\n",
      "Epoch 23 | train loss: 0.266 | train accuracy: 0.91% | train f1: 0.91 | test loss: 1.324 | test accuracy: 0.70% | test f1: 0.70 | time: 204.90s\n",
      "Epoch 24 | train loss: 0.256 | train accuracy: 0.92% | train f1: 0.92 | test loss: 1.346 | test accuracy: 0.70% | test f1: 0.70 | time: 213.50s\n",
      "Epoch 25 | train loss: 0.249 | train accuracy: 0.93% | train f1: 0.93 | test loss: 1.371 | test accuracy: 0.70% | test f1: 0.70 | time: 222.26s\n"
     ]
    }
   ],
   "source": [
    "EPOCHS = 25\n",
    "\n",
    "total_time = 0\n",
    "\n",
    "max_f1 = -float('inf')\n",
    "\n",
    "log = []\n",
    "\n",
    "for epoch in range(EPOCHS):\n",
    "    begin = time.time()\n",
    "    \n",
    "    cnn2.train(True)\n",
    "    average_train_loss = train_one_epoch(cnn2, optimizer, loss_fn, trainloader)\n",
    "    \n",
    "    end = time.time()\n",
    "    total_time += end-begin\n",
    "\n",
    "    cnn2.eval()\n",
    "    running_test_loss = 0.\n",
    "    for i, data in enumerate(testloader):\n",
    "        inputs, labels = data\n",
    "        outputs = cnn2(inputs.to(device))\n",
    "        loss = loss_fn(outputs, labels.to(device))\n",
    "        running_test_loss += loss.item()\n",
    "    average_test_loss = running_test_loss/(i+1)\n",
    "    if (epoch+1)%1 == 0:\n",
    "        train_accuracy, train_f1, _, _ = evaluate(cifar10Train, cnn2)\n",
    "        test_accuracy, test_f1, _, _ = evaluate(cifar10Test, cnn2)\n",
    "        if test_f1 > max_f1:\n",
    "            max_f1 = test_f1\n",
    "            save_model(cnn2, './models/cnn2_1.pth')\n",
    "        log.append({'average_test_loss': average_test_loss, 'average_train_loss': average_train_loss, 'total_time': total_time, 'train_accuracy': train_accuracy, 'train_f1': train_f1, 'test_accuracy': test_accuracy, 'test_f1': test_f1})\n",
    "        print(f\"Epoch {epoch+1} | train loss: {average_train_loss:.3f} | train accuracy: {train_accuracy:.2f}% | train f1: {train_f1:.2f} | test loss: {average_test_loss:.3f} | test accuracy: {test_accuracy:.2f}% | test f1: {test_f1:.2f} | time: {total_time:.2f}s\")"
   ]
  },
  {
   "cell_type": "code",
   "execution_count": 10,
   "id": "0c7a4e8c",
   "metadata": {},
   "outputs": [],
   "source": [
    "import pickle\n",
    "\n",
    "pickle.dump(log, open('./logs/cnn2_1.pkl', 'wb'))"
   ]
  },
  {
   "cell_type": "code",
   "execution_count": null,
   "id": "41e55a98",
   "metadata": {},
   "outputs": [],
   "source": []
  }
 ],
 "metadata": {
  "kernelspec": {
   "display_name": "env",
   "language": "python",
   "name": "env"
  },
  "language_info": {
   "codemirror_mode": {
    "name": "ipython",
    "version": 3
   },
   "file_extension": ".py",
   "mimetype": "text/x-python",
   "name": "python",
   "nbconvert_exporter": "python",
   "pygments_lexer": "ipython3",
   "version": "3.8.10"
  }
 },
 "nbformat": 4,
 "nbformat_minor": 5
}
