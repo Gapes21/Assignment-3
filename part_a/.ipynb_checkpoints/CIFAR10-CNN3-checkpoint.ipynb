{
 "cells": [
  {
   "cell_type": "markdown",
   "id": "309a0e3c",
   "metadata": {},
   "source": [
    "# Dataset\n",
    "\n",
    "CIFAR 10"
   ]
  },
  {
   "cell_type": "code",
   "execution_count": 1,
   "id": "93e13ecd",
   "metadata": {},
   "outputs": [
    {
     "name": "stdout",
     "output_type": "stream",
     "text": [
      "Files already downloaded and verified\n",
      "Files already downloaded and verified\n"
     ]
    }
   ],
   "source": [
    "import torchvision\n",
    "\n",
    "cifar10Train = torchvision.datasets.CIFAR10(\"./CIFAR10\", download=True, transform=lambda im: torchvision.transforms.functional.pil_to_tensor(im)/255)\n",
    "cifar10Test = torchvision.datasets.CIFAR10(\"./CIFAR10\", train=False, download=True, transform=lambda im: torchvision.transforms.functional.pil_to_tensor(im)/255)"
   ]
  },
  {
   "cell_type": "code",
   "execution_count": 2,
   "id": "a2377056",
   "metadata": {},
   "outputs": [],
   "source": [
    "import numpy as np\n",
    "import pandas as pd\n",
    "import time\n",
    "\n",
    "import torch\n",
    "import torch.nn as nn\n",
    "from torch.utils.data import DataLoader\n",
    "import PIL\n",
    "from sklearn.metrics import accuracy_score, f1_score\n",
    "\n",
    "device = 'cuda' if torch.cuda.is_available() else 'cpu'"
   ]
  },
  {
   "cell_type": "markdown",
   "id": "ad470287",
   "metadata": {},
   "source": [
    "# Models"
   ]
  },
  {
   "cell_type": "markdown",
   "id": "3a87a94d",
   "metadata": {},
   "source": [
    "## CNN3\n",
    "\n",
    "3 Conv, 2 FC, Dropout=0.4, Batch norm\n",
    "\n",
    "Activation fn: ReLU\n",
    "\n",
    "Optimizer: Adam"
   ]
  },
  {
   "cell_type": "code",
   "execution_count": 3,
   "id": "d51879f5",
   "metadata": {},
   "outputs": [],
   "source": [
    "class CNN3(nn.Module):\n",
    "    def __init__(self):\n",
    "        super().__init__()\n",
    "\n",
    "        self.cnn1 = nn.Conv2d(3, 16, (3, 3), padding='same').to(device)\n",
    "        self.bn1 = nn.BatchNorm2d(16)\n",
    "        self.relu1 = nn.ReLU()\n",
    "        self.maxpool1 = nn.MaxPool2d((2, 2), stride=(2, 2)).to(device)\n",
    "\n",
    "        self.cnn2 = nn.Conv2d(16, 32, (3, 3), padding='same').to(device)\n",
    "        self.bn2 = nn.BatchNorm2d(32)\n",
    "        self.relu2 = nn.ReLU()\n",
    "        self.maxpool2 = nn.MaxPool2d((2, 2), stride=(2,2)).to(device)\n",
    "\n",
    "        self.cnn3 = nn.Conv2d(32, 64, (3, 3), padding='same').to(device)\n",
    "        self.bn3 = nn.BatchNorm2d(64)\n",
    "        self.relu3 = nn.ReLU()\n",
    "        self.maxpool3 = nn.MaxPool2d((2, 2), stride=(2,2)).to(device)\n",
    "\n",
    "        self.linear1 = nn.Linear(64 * 4 * 4, 512)\n",
    "        self.relu4 = nn.ReLU()\n",
    "        self.dropout1 = nn.Dropout(0.4)\n",
    "\n",
    "        self.linear2 = nn.Linear(512, 512)\n",
    "        self.relu5 = nn.ReLU()\n",
    "        self.dropout2 = nn.Dropout(0.4)\n",
    "\n",
    "        self.linear3 = nn.Linear(512, 10)\n",
    "\n",
    "    def forward(self, inputs):\n",
    "        x = self.cnn1(inputs)\n",
    "        x = self.bn1(x)\n",
    "        x = self.relu1(x)\n",
    "        x = self.maxpool1(x)\n",
    "\n",
    "        x = self.cnn2(x)\n",
    "        x = self.bn2(x)\n",
    "        x = self.relu2(x)\n",
    "        x = self.maxpool2(x)\n",
    "\n",
    "        x = self.cnn3(x)\n",
    "        x = self.bn3(x)\n",
    "        x = self.relu3(x)\n",
    "        x = self.maxpool3(x)\n",
    "\n",
    "        x = torch.flatten(x, 1)\n",
    "\n",
    "        x = self.linear1(x)\n",
    "        x = self.relu4(x)\n",
    "        x = self.dropout1(x)\n",
    "\n",
    "        x = self.linear2(x)\n",
    "        x = self.relu5(x)\n",
    "        x = self.dropout2(x)\n",
    "\n",
    "        x = self.linear3(x)\n",
    "    \n",
    "        return x\n"
   ]
  },
  {
   "cell_type": "code",
   "execution_count": 4,
   "id": "7c620321",
   "metadata": {},
   "outputs": [],
   "source": [
    "trainloader = DataLoader(cifar10Train, 64)\n",
    "testloader = DataLoader(cifar10Test, 64)"
   ]
  },
  {
   "cell_type": "code",
   "execution_count": 5,
   "id": "d6b32c0e",
   "metadata": {},
   "outputs": [],
   "source": [
    "def train_one_epoch(model, optimzer, loss_fn, training_loader):\n",
    "    running_loss = 0.\n",
    "    running_momentum = 0.\n",
    "\n",
    "    for i, data in enumerate(training_loader):\n",
    "        inputs, labels = data\n",
    "\n",
    "        optimizer.zero_grad()\n",
    "\n",
    "        outputs = model(inputs.to(device))\n",
    "\n",
    "        loss = loss_fn(outputs, labels.to(device))\n",
    "        loss.backward()\n",
    "\n",
    "        optimizer.step()\n",
    "           \n",
    "\n",
    "        running_loss += loss.item()\n",
    "\n",
    "        \n",
    "    average_loss = running_loss/(i+1)\n",
    "    \n",
    "\n",
    "    return average_loss"
   ]
  },
  {
   "cell_type": "code",
   "execution_count": 6,
   "id": "4f28d54d",
   "metadata": {},
   "outputs": [],
   "source": [
    "def evaluate(tdataset, model):\n",
    "    model.eval()\n",
    "    preds = []\n",
    "    truths = []\n",
    "    for example in tdataset:\n",
    "        input = example[0].unsqueeze(0).to(device)\n",
    "        logits = model(input)\n",
    "        pred = torch.argmax(torch.softmax(logits, 1))\n",
    "        preds.append(pred.item())\n",
    "        truths.append(example[1])\n",
    "    return accuracy_score(truths, preds), f1_score(truths, preds, average='macro'), preds, truths"
   ]
  },
  {
   "cell_type": "code",
   "execution_count": 7,
   "id": "4c247829",
   "metadata": {},
   "outputs": [],
   "source": [
    "def save_model(model, filepath):\n",
    "    torch.save(model.state_dict(), filepath)\n",
    "\n",
    "def load_model(model, filepath, device='cpu'):\n",
    "    model.load_state_dict(torch.load(filepath, map_location=device))\n",
    "    model.eval()"
   ]
  },
  {
   "cell_type": "code",
   "execution_count": 8,
   "id": "8dfa3b68",
   "metadata": {},
   "outputs": [],
   "source": [
    "cnn3 = CNN3().to(device)\n",
    "\n",
    "optimizer = torch.optim.Adam(cnn3.parameters(), lr=1e-3)\n",
    "loss_fn = nn.CrossEntropyLoss()"
   ]
  },
  {
   "cell_type": "code",
   "execution_count": 9,
   "id": "6b66be08",
   "metadata": {},
   "outputs": [
    {
     "name": "stdout",
     "output_type": "stream",
     "text": [
      "Epoch 1 | train loss: 1.407 | train accuracy: 62.21% | train f1: 0.62 | test loss: 1.078 | test accuracy: 62.10% | test f1: 0.62 | time: 10.59s\n",
      "Epoch 2 | train loss: 1.057 | train accuracy: 63.80% | train f1: 0.63 | test loss: 1.072 | test accuracy: 61.99% | test f1: 0.61 | time: 19.33s\n",
      "Epoch 3 | train loss: 0.923 | train accuracy: 69.43% | train f1: 0.69 | test loss: 0.943 | test accuracy: 67.26% | test f1: 0.66 | time: 28.11s\n",
      "Epoch 4 | train loss: 0.832 | train accuracy: 74.51% | train f1: 0.74 | test loss: 0.839 | test accuracy: 70.74% | test f1: 0.70 | time: 36.80s\n",
      "Epoch 5 | train loss: 0.759 | train accuracy: 76.75% | train f1: 0.77 | test loss: 0.812 | test accuracy: 72.32% | test f1: 0.72 | time: 45.63s\n",
      "Epoch 6 | train loss: 0.708 | train accuracy: 66.22% | train f1: 0.65 | test loss: 1.161 | test accuracy: 62.73% | test f1: 0.61 | time: 54.43s\n",
      "Epoch 7 | train loss: 0.654 | train accuracy: 78.29% | train f1: 0.78 | test loss: 0.838 | test accuracy: 72.20% | test f1: 0.72 | time: 63.24s\n",
      "Epoch 8 | train loss: 0.612 | train accuracy: 77.94% | train f1: 0.77 | test loss: 0.874 | test accuracy: 71.35% | test f1: 0.70 | time: 72.17s\n",
      "Epoch 9 | train loss: 0.574 | train accuracy: 81.43% | train f1: 0.81 | test loss: 0.807 | test accuracy: 73.32% | test f1: 0.73 | time: 81.11s\n",
      "Epoch 10 | train loss: 0.539 | train accuracy: 83.83% | train f1: 0.84 | test loss: 0.770 | test accuracy: 74.33% | test f1: 0.74 | time: 90.08s\n",
      "Epoch 11 | train loss: 0.509 | train accuracy: 83.20% | train f1: 0.83 | test loss: 0.840 | test accuracy: 73.15% | test f1: 0.73 | time: 99.04s\n",
      "Epoch 12 | train loss: 0.484 | train accuracy: 86.13% | train f1: 0.86 | test loss: 0.776 | test accuracy: 75.10% | test f1: 0.75 | time: 108.04s\n",
      "Epoch 13 | train loss: 0.461 | train accuracy: 84.96% | train f1: 0.85 | test loss: 0.825 | test accuracy: 73.18% | test f1: 0.73 | time: 117.03s\n",
      "Epoch 14 | train loss: 0.429 | train accuracy: 87.88% | train f1: 0.88 | test loss: 0.790 | test accuracy: 75.40% | test f1: 0.76 | time: 126.02s\n",
      "Epoch 15 | train loss: 0.414 | train accuracy: 86.93% | train f1: 0.87 | test loss: 0.838 | test accuracy: 73.97% | test f1: 0.74 | time: 134.98s\n",
      "Epoch 16 | train loss: 0.400 | train accuracy: 80.90% | train f1: 0.81 | test loss: 1.032 | test accuracy: 69.73% | test f1: 0.70 | time: 144.22s\n",
      "Epoch 17 | train loss: 0.385 | train accuracy: 87.04% | train f1: 0.87 | test loss: 0.870 | test accuracy: 73.75% | test f1: 0.74 | time: 153.84s\n",
      "Epoch 18 | train loss: 0.363 | train accuracy: 87.57% | train f1: 0.88 | test loss: 0.889 | test accuracy: 73.89% | test f1: 0.74 | time: 163.08s\n",
      "Epoch 19 | train loss: 0.351 | train accuracy: 87.88% | train f1: 0.88 | test loss: 0.918 | test accuracy: 73.35% | test f1: 0.74 | time: 172.27s\n",
      "Epoch 20 | train loss: 0.340 | train accuracy: 87.60% | train f1: 0.88 | test loss: 0.913 | test accuracy: 73.27% | test f1: 0.73 | time: 181.45s\n",
      "Epoch 21 | train loss: 0.321 | train accuracy: 90.13% | train f1: 0.90 | test loss: 0.895 | test accuracy: 75.19% | test f1: 0.75 | time: 190.60s\n",
      "Epoch 22 | train loss: 0.316 | train accuracy: 90.29% | train f1: 0.90 | test loss: 0.921 | test accuracy: 75.07% | test f1: 0.75 | time: 199.75s\n",
      "Epoch 23 | train loss: 0.305 | train accuracy: 87.86% | train f1: 0.88 | test loss: 0.976 | test accuracy: 73.03% | test f1: 0.73 | time: 208.93s\n",
      "Epoch 24 | train loss: 0.295 | train accuracy: 90.08% | train f1: 0.90 | test loss: 1.010 | test accuracy: 74.12% | test f1: 0.74 | time: 218.04s\n",
      "Epoch 25 | train loss: 0.288 | train accuracy: 93.02% | train f1: 0.93 | test loss: 0.897 | test accuracy: 75.89% | test f1: 0.76 | time: 227.38s\n"
     ]
    }
   ],
   "source": [
    "EPOCHS = 25\n",
    "\n",
    "total_time = 0\n",
    "\n",
    "max_f1 = -float('inf')\n",
    "\n",
    "log = []\n",
    "\n",
    "for epoch in range(EPOCHS):\n",
    "    begin = time.time()\n",
    "    \n",
    "    cnn3.train(True)\n",
    "    average_train_loss = train_one_epoch(cnn3, optimizer, loss_fn, trainloader)\n",
    "    \n",
    "    end = time.time()\n",
    "    total_time += end-begin\n",
    "\n",
    "    cnn3.eval()\n",
    "    running_test_loss = 0.\n",
    "    for i, data in enumerate(testloader):\n",
    "        inputs, labels = data\n",
    "        outputs = cnn3(inputs.to(device))\n",
    "        loss = loss_fn(outputs, labels.to(device))\n",
    "        running_test_loss += loss.item()\n",
    "    average_test_loss = running_test_loss/(i+1)\n",
    "    end = time.time()\n",
    "    if (epoch+1)%1 == 0:\n",
    "        train_accuracy, train_f1, _, _ = evaluate(cifar10Train, cnn3)\n",
    "        test_accuracy, test_f1, _, _ = evaluate(cifar10Test, cnn3)\n",
    "        if test_f1 > max_f1:\n",
    "            max_f1 = test_f1\n",
    "            save_model(cnn3, './models/cnn3.pth')\n",
    "        log.append({'average_test_loss': average_test_loss, 'average_train_loss': average_train_loss, 'total_time': total_time, 'train_accuracy': train_accuracy, 'train_f1': train_f1, 'test_accuracy': test_accuracy, 'test_f1': test_f1})\n",
    "        print(f\"Epoch {epoch+1} | train loss: {average_train_loss:.3f} | train accuracy: {100*train_accuracy:.2f}% | train f1: {train_f1:.2f} | test loss: {average_test_loss:.3f} | test accuracy: {100*test_accuracy:.2f}% | test f1: {test_f1:.2f} | time: {total_time:.2f}s\")"
   ]
  },
  {
   "cell_type": "code",
   "execution_count": 10,
   "id": "0c7a4e8c",
   "metadata": {},
   "outputs": [],
   "source": [
    "import pickle\n",
    "\n",
    "pickle.dump(log, open('./logs/cnn3.pkl', 'wb'))"
   ]
  },
  {
   "cell_type": "code",
   "execution_count": null,
   "id": "6cc62e92",
   "metadata": {},
   "outputs": [],
   "source": []
  }
 ],
 "metadata": {
  "kernelspec": {
   "display_name": "env",
   "language": "python",
   "name": "env"
  },
  "language_info": {
   "codemirror_mode": {
    "name": "ipython",
    "version": 3
   },
   "file_extension": ".py",
   "mimetype": "text/x-python",
   "name": "python",
   "nbconvert_exporter": "python",
   "pygments_lexer": "ipython3",
   "version": "3.8.10"
  }
 },
 "nbformat": 4,
 "nbformat_minor": 5
}
