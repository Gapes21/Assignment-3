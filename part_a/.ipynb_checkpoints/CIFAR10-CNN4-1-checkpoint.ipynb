{
 "cells": [
  {
   "cell_type": "markdown",
   "id": "309a0e3c",
   "metadata": {},
   "source": [
    "# Dataset\n",
    "\n",
    "CIFAR 10"
   ]
  },
  {
   "cell_type": "code",
   "execution_count": 1,
   "id": "93e13ecd",
   "metadata": {},
   "outputs": [
    {
     "name": "stdout",
     "output_type": "stream",
     "text": [
      "Files already downloaded and verified\n",
      "Files already downloaded and verified\n"
     ]
    }
   ],
   "source": [
    "import torchvision\n",
    "\n",
    "cifar10Train = torchvision.datasets.CIFAR10(\"./CIFAR10\", download=True, transform=lambda im: torchvision.transforms.functional.pil_to_tensor(im)/255)\n",
    "cifar10Test = torchvision.datasets.CIFAR10(\"./CIFAR10\", train=False, download=True, transform=lambda im: torchvision.transforms.functional.pil_to_tensor(im)/255)"
   ]
  },
  {
   "cell_type": "code",
   "execution_count": 2,
   "id": "a2377056",
   "metadata": {},
   "outputs": [],
   "source": [
    "import numpy as np\n",
    "import pandas as pd\n",
    "import time\n",
    "\n",
    "import torch\n",
    "import torch.nn as nn\n",
    "from torch.utils.data import DataLoader\n",
    "import PIL\n",
    "from sklearn.metrics import accuracy_score, f1_score\n",
    "\n",
    "device = 'cuda' if torch.cuda.is_available() else 'cpu'"
   ]
  },
  {
   "cell_type": "markdown",
   "id": "ad470287",
   "metadata": {},
   "source": [
    "# Models"
   ]
  },
  {
   "cell_type": "markdown",
   "id": "3a87a94d",
   "metadata": {},
   "source": [
    "## CNN4.1\n",
    "\n",
    "3 Conv, 2 FC, Dropout=0.4, Batch norm\n",
    "\n",
    "Activation fn: sigmoid\n",
    "\n",
    "Optimizer: Adam"
   ]
  },
  {
   "cell_type": "code",
   "execution_count": 3,
   "id": "d51879f5",
   "metadata": {},
   "outputs": [],
   "source": [
    "class CNN4(nn.Module):\n",
    "    def __init__(self):\n",
    "        super().__init__()\n",
    "\n",
    "        self.cnn1 = nn.Conv2d(3, 16, (3, 3), padding='same').to(device)\n",
    "        self.bn1 = nn.BatchNorm2d(16)\n",
    "        self.sig1 = nn.Sigmoid()\n",
    "        self.maxpool1 = nn.MaxPool2d((2, 2), stride=(2, 2)).to(device)\n",
    "\n",
    "        self.cnn2 = nn.Conv2d(16, 32, (3, 3), padding='same').to(device)\n",
    "        self.bn2 = nn.BatchNorm2d(32)\n",
    "        self.sig2 = nn.Sigmoid()\n",
    "        self.maxpool2 = nn.MaxPool2d((2, 2), stride=(2,2)).to(device)\n",
    "\n",
    "        self.cnn3 = nn.Conv2d(32, 64, (3, 3), padding='same').to(device)\n",
    "        self.bn3 = nn.BatchNorm2d(64)\n",
    "        self.sig3 = nn.Sigmoid()\n",
    "        self.maxpool3 = nn.MaxPool2d((2, 2), stride=(2,2)).to(device)\n",
    "\n",
    "        self.linear1 = nn.Linear(64 * 4 * 4, 512)\n",
    "        self.sig4 = nn.Sigmoid()\n",
    "        self.dropout1 = nn.Dropout(0.4)\n",
    "\n",
    "        self.linear2 = nn.Linear(512, 512)\n",
    "        self.sig5 = nn.Sigmoid()\n",
    "        self.dropout2 = nn.Dropout(0.4)\n",
    "\n",
    "        self.linear3 = nn.Linear(512, 10)\n",
    "\n",
    "    def forward(self, inputs):\n",
    "        x = self.cnn1(inputs)\n",
    "        x = self.bn1(x)\n",
    "        x = self.sig1(x)\n",
    "        x = self.maxpool1(x)\n",
    "\n",
    "        x = self.cnn2(x)\n",
    "        x = self.bn2(x)\n",
    "        x = self.sig2(x)\n",
    "        x = self.maxpool2(x)\n",
    "\n",
    "        x = self.cnn3(x)\n",
    "        x = self.bn3(x)\n",
    "        x = self.sig3(x)\n",
    "        x = self.maxpool3(x)\n",
    "\n",
    "        x = torch.flatten(x, 1)\n",
    "\n",
    "        x = self.linear1(x)\n",
    "        x = self.sig4(x)\n",
    "        x = self.dropout1(x)\n",
    "\n",
    "        x = self.linear2(x)\n",
    "        x = self.sig5(x)\n",
    "        x = self.dropout2(x)\n",
    "\n",
    "        x = self.linear3(x)\n",
    "    \n",
    "        return x\n"
   ]
  },
  {
   "cell_type": "code",
   "execution_count": 4,
   "id": "7c620321",
   "metadata": {},
   "outputs": [],
   "source": [
    "trainloader = DataLoader(cifar10Train, 64)\n",
    "testloader = DataLoader(cifar10Test, 64)"
   ]
  },
  {
   "cell_type": "code",
   "execution_count": 5,
   "id": "d6b32c0e",
   "metadata": {},
   "outputs": [],
   "source": [
    "def train_one_epoch(model, optimzer, loss_fn, training_loader):\n",
    "    running_loss = 0.\n",
    "    running_momentum = 0.\n",
    "\n",
    "    for i, data in enumerate(training_loader):\n",
    "        inputs, labels = data\n",
    "\n",
    "        optimizer.zero_grad()\n",
    "\n",
    "        outputs = model(inputs.to(device))\n",
    "\n",
    "        loss = loss_fn(outputs, labels.to(device))\n",
    "        loss.backward()\n",
    "\n",
    "        optimizer.step()\n",
    "           \n",
    "\n",
    "        running_loss += loss.item()\n",
    "\n",
    "        \n",
    "    average_loss = running_loss/(i+1)\n",
    "    \n",
    "\n",
    "    return average_loss"
   ]
  },
  {
   "cell_type": "code",
   "execution_count": 6,
   "id": "4f28d54d",
   "metadata": {},
   "outputs": [],
   "source": [
    "def evaluate(tdataset, model):\n",
    "    model.eval()\n",
    "    preds = []\n",
    "    truths = []\n",
    "    for example in tdataset:\n",
    "        input = example[0].unsqueeze(0).to(device)\n",
    "        logits = model(input)\n",
    "        pred = torch.argmax(torch.softmax(logits, 1))\n",
    "        preds.append(pred.item())\n",
    "        truths.append(example[1])\n",
    "    return accuracy_score(truths, preds), f1_score(truths, preds, average='macro'), preds, truths"
   ]
  },
  {
   "cell_type": "code",
   "execution_count": 7,
   "id": "4c247829",
   "metadata": {},
   "outputs": [],
   "source": [
    "def save_model(model, filepath):\n",
    "    torch.save(model.state_dict(), filepath)\n",
    "\n",
    "def load_model(model, filepath, device='cpu'):\n",
    "    model.load_state_dict(torch.load(filepath, map_location=device))\n",
    "    model.eval()"
   ]
  },
  {
   "cell_type": "code",
   "execution_count": 8,
   "id": "8dfa3b68",
   "metadata": {},
   "outputs": [],
   "source": [
    "cnn4 = CNN4().to(device)\n",
    "\n",
    "optimizer = torch.optim.Adam(cnn4.parameters(), lr=1e-3)\n",
    "loss_fn = nn.CrossEntropyLoss()"
   ]
  },
  {
   "cell_type": "code",
   "execution_count": 9,
   "id": "6b66be08",
   "metadata": {},
   "outputs": [
    {
     "name": "stdout",
     "output_type": "stream",
     "text": [
      "Epoch 1 | train loss: 1.791 | train accuracy: 38.95% | train f1: 0.35 | test loss: 1.640 | test accuracy: 38.59% | test f1: 0.35 | time: 10.95s\n",
      "Epoch 2 | train loss: 1.478 | train accuracy: 52.69% | train f1: 0.52 | test loss: 1.288 | test accuracy: 52.40% | test f1: 0.51 | time: 19.80s\n",
      "Epoch 3 | train loss: 1.315 | train accuracy: 51.05% | train f1: 0.49 | test loss: 1.337 | test accuracy: 50.35% | test f1: 0.49 | time: 28.79s\n",
      "Epoch 4 | train loss: 1.204 | train accuracy: 56.14% | train f1: 0.56 | test loss: 1.223 | test accuracy: 55.50% | test f1: 0.55 | time: 37.73s\n",
      "Epoch 5 | train loss: 1.119 | train accuracy: 62.47% | train f1: 0.62 | test loss: 1.063 | test accuracy: 61.45% | test f1: 0.61 | time: 46.74s\n",
      "Epoch 6 | train loss: 1.050 | train accuracy: 64.23% | train f1: 0.65 | test loss: 1.043 | test accuracy: 63.02% | test f1: 0.64 | time: 55.70s\n",
      "Epoch 7 | train loss: 0.998 | train accuracy: 63.06% | train f1: 0.63 | test loss: 1.062 | test accuracy: 61.70% | test f1: 0.62 | time: 64.74s\n",
      "Epoch 8 | train loss: 0.951 | train accuracy: 58.64% | train f1: 0.59 | test loss: 1.253 | test accuracy: 57.24% | test f1: 0.58 | time: 73.85s\n",
      "Epoch 9 | train loss: 0.911 | train accuracy: 66.75% | train f1: 0.67 | test loss: 1.008 | test accuracy: 64.96% | test f1: 0.65 | time: 82.91s\n",
      "Epoch 10 | train loss: 0.875 | train accuracy: 69.39% | train f1: 0.70 | test loss: 0.940 | test accuracy: 66.74% | test f1: 0.67 | time: 92.09s\n",
      "Epoch 11 | train loss: 0.848 | train accuracy: 68.77% | train f1: 0.69 | test loss: 0.973 | test accuracy: 66.23% | test f1: 0.67 | time: 101.16s\n",
      "Epoch 12 | train loss: 0.825 | train accuracy: 66.99% | train f1: 0.67 | test loss: 1.021 | test accuracy: 65.15% | test f1: 0.65 | time: 110.71s\n",
      "Epoch 13 | train loss: 0.798 | train accuracy: 68.46% | train f1: 0.69 | test loss: 1.035 | test accuracy: 65.84% | test f1: 0.66 | time: 119.95s\n",
      "Epoch 14 | train loss: 0.771 | train accuracy: 71.98% | train f1: 0.72 | test loss: 0.923 | test accuracy: 69.04% | test f1: 0.69 | time: 129.25s\n",
      "Epoch 15 | train loss: 0.748 | train accuracy: 72.33% | train f1: 0.72 | test loss: 0.916 | test accuracy: 69.03% | test f1: 0.68 | time: 138.48s\n",
      "Epoch 16 | train loss: 0.730 | train accuracy: 71.57% | train f1: 0.71 | test loss: 0.968 | test accuracy: 68.25% | test f1: 0.67 | time: 147.72s\n",
      "Epoch 17 | train loss: 0.715 | train accuracy: 67.47% | train f1: 0.68 | test loss: 1.095 | test accuracy: 64.26% | test f1: 0.65 | time: 156.97s\n",
      "Epoch 18 | train loss: 0.690 | train accuracy: 68.84% | train f1: 0.69 | test loss: 1.074 | test accuracy: 65.11% | test f1: 0.65 | time: 166.31s\n",
      "Epoch 19 | train loss: 0.669 | train accuracy: 72.04% | train f1: 0.72 | test loss: 1.004 | test accuracy: 67.76% | test f1: 0.68 | time: 175.74s\n",
      "Epoch 20 | train loss: 0.653 | train accuracy: 76.33% | train f1: 0.76 | test loss: 0.851 | test accuracy: 71.48% | test f1: 0.71 | time: 184.87s\n",
      "Epoch 21 | train loss: 0.638 | train accuracy: 67.05% | train f1: 0.68 | test loss: 1.184 | test accuracy: 62.53% | test f1: 0.63 | time: 193.95s\n",
      "Epoch 22 | train loss: 0.624 | train accuracy: 69.31% | train f1: 0.70 | test loss: 1.136 | test accuracy: 64.85% | test f1: 0.65 | time: 203.04s\n",
      "Epoch 23 | train loss: 0.603 | train accuracy: 74.40% | train f1: 0.74 | test loss: 0.945 | test accuracy: 69.36% | test f1: 0.69 | time: 212.17s\n",
      "Epoch 24 | train loss: 0.591 | train accuracy: 76.80% | train f1: 0.76 | test loss: 0.875 | test accuracy: 70.76% | test f1: 0.70 | time: 221.17s\n",
      "Epoch 25 | train loss: 0.577 | train accuracy: 79.62% | train f1: 0.80 | test loss: 0.827 | test accuracy: 72.67% | test f1: 0.73 | time: 230.09s\n"
     ]
    }
   ],
   "source": [
    "EPOCHS = 25\n",
    "\n",
    "total_time = 0\n",
    "\n",
    "max_f1 = -float('inf')\n",
    "\n",
    "log = []\n",
    "\n",
    "for epoch in range(EPOCHS):\n",
    "    begin = time.time()\n",
    "    \n",
    "    cnn4.train(True)\n",
    "    average_train_loss = train_one_epoch(cnn4, optimizer, loss_fn, trainloader)\n",
    "    \n",
    "    end = time.time()\n",
    "    total_time += end-begin\n",
    "\n",
    "    cnn4.eval()\n",
    "    running_test_loss = 0.\n",
    "    for i, data in enumerate(testloader):\n",
    "        inputs, labels = data\n",
    "        outputs = cnn4(inputs.to(device))\n",
    "        loss = loss_fn(outputs, labels.to(device))\n",
    "        running_test_loss += loss.item()\n",
    "    average_test_loss = running_test_loss/(i+1)\n",
    "    end = time.time()\n",
    "    if (epoch+1)%1 == 0:\n",
    "        train_accuracy, train_f1, _, _ = evaluate(cifar10Train, cnn4)\n",
    "        test_accuracy, test_f1, _, _ = evaluate(cifar10Test, cnn4)\n",
    "        if test_f1 > max_f1:\n",
    "            max_f1 = test_f1\n",
    "            save_model(cnn4, './models/cnn4_1.pth')\n",
    "        log.append({'average_test_loss': average_test_loss, 'average_train_loss': average_train_loss, 'total_time': total_time, 'train_accuracy': train_accuracy, 'train_f1': train_f1, 'test_accuracy': test_accuracy, 'test_f1': test_f1})\n",
    "        print(f\"Epoch {epoch+1} | train loss: {average_train_loss:.3f} | train accuracy: {100*train_accuracy:.2f}% | train f1: {train_f1:.2f} | test loss: {average_test_loss:.3f} | test accuracy: {100*test_accuracy:.2f}% | test f1: {test_f1:.2f} | time: {total_time:.2f}s\")"
   ]
  },
  {
   "cell_type": "code",
   "execution_count": 10,
   "id": "0c7a4e8c",
   "metadata": {},
   "outputs": [],
   "source": [
    "import pickle\n",
    "\n",
    "pickle.dump(log, open('./logs/cnn4_1.pkl', 'wb'))"
   ]
  },
  {
   "cell_type": "code",
   "execution_count": null,
   "id": "6cc62e92",
   "metadata": {},
   "outputs": [],
   "source": []
  }
 ],
 "metadata": {
  "kernelspec": {
   "display_name": "env",
   "language": "python",
   "name": "env"
  },
  "language_info": {
   "codemirror_mode": {
    "name": "ipython",
    "version": 3
   },
   "file_extension": ".py",
   "mimetype": "text/x-python",
   "name": "python",
   "nbconvert_exporter": "python",
   "pygments_lexer": "ipython3",
   "version": "3.8.10"
  }
 },
 "nbformat": 4,
 "nbformat_minor": 5
}
