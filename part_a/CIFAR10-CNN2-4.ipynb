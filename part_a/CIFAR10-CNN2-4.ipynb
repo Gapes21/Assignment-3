{
 "cells": [
  {
   "cell_type": "markdown",
   "id": "309a0e3c",
   "metadata": {},
   "source": [
    "# Dataset\n",
    "\n",
    "CIFAR 10"
   ]
  },
  {
   "cell_type": "code",
   "execution_count": 1,
   "id": "93e13ecd",
   "metadata": {},
   "outputs": [
    {
     "name": "stdout",
     "output_type": "stream",
     "text": [
      "Files already downloaded and verified\n",
      "Files already downloaded and verified\n"
     ]
    }
   ],
   "source": [
    "import torchvision\n",
    "\n",
    "cifar10Train = torchvision.datasets.CIFAR10(\"./CIFAR10\", download=True, transform=lambda im: torchvision.transforms.functional.pil_to_tensor(im)/255)\n",
    "cifar10Test = torchvision.datasets.CIFAR10(\"./CIFAR10\", train=False, download=True, transform=lambda im: torchvision.transforms.functional.pil_to_tensor(im)/255)"
   ]
  },
  {
   "cell_type": "code",
   "execution_count": 2,
   "id": "a2377056",
   "metadata": {},
   "outputs": [],
   "source": [
    "import numpy as np\n",
    "import pandas as pd\n",
    "import time\n",
    "\n",
    "import torch\n",
    "import torch.nn as nn\n",
    "from torch.utils.data import DataLoader\n",
    "import PIL\n",
    "from sklearn.metrics import accuracy_score, f1_score\n",
    "\n",
    "device = 'cuda' if torch.cuda.is_available() else 'cpu'"
   ]
  },
  {
   "cell_type": "markdown",
   "id": "ad470287",
   "metadata": {},
   "source": [
    "# Models"
   ]
  },
  {
   "cell_type": "markdown",
   "id": "3a87a94d",
   "metadata": {},
   "source": [
    "## CNN2.4\n",
    "\n",
    "3 Conv, 2 FC, Dropout=0.8, no batch norm\n",
    "\n",
    "Activation fn: ReLU\n",
    "\n",
    "Optimizer: Adam"
   ]
  },
  {
   "cell_type": "code",
   "execution_count": 3,
   "id": "d51879f5",
   "metadata": {},
   "outputs": [],
   "source": [
    "class CNN2(nn.Module):\n",
    "    def __init__(self):\n",
    "        super().__init__()\n",
    "\n",
    "        self.cnn1 = nn.Conv2d(3, 16, (3, 3), padding='same').to(device)\n",
    "        self.relu1 = nn.ReLU()\n",
    "        self.maxpool1 = nn.MaxPool2d((2, 2), stride=(2, 2)).to(device)\n",
    "\n",
    "        self.cnn2 = nn.Conv2d(16, 32, (3, 3), padding='same').to(device)\n",
    "        self.relu2 = nn.ReLU()\n",
    "        self.maxpool2 = nn.MaxPool2d((2, 2), stride=(2,2)).to(device)\n",
    "\n",
    "        self.cnn3 = nn.Conv2d(32, 64, (3, 3), padding='same').to(device)\n",
    "        self.relu3 = nn.ReLU()\n",
    "        self.maxpool3 = nn.MaxPool2d((2, 2), stride=(2,2)).to(device)\n",
    "\n",
    "        self.linear1 = nn.Linear(64 * 4 * 4, 512)\n",
    "        self.relu4 = nn.ReLU()\n",
    "        self.dropout1 = nn.Dropout(0.8)\n",
    "\n",
    "        self.linear2 = nn.Linear(512, 512)\n",
    "        self.relu5 = nn.ReLU()\n",
    "        self.dropout2 = nn.Dropout(0.8)\n",
    "\n",
    "        self.linear3 = nn.Linear(512, 10)\n",
    "\n",
    "    def forward(self, inputs):\n",
    "        x = self.cnn1(inputs)\n",
    "        x = self.relu1(x)\n",
    "        x = self.maxpool1(x)\n",
    "\n",
    "        x = self.cnn2(x)\n",
    "        x = self.relu2(x)\n",
    "        x = self.maxpool2(x)\n",
    "\n",
    "        x = self.cnn3(x)\n",
    "        x = self.relu3(x)\n",
    "        x = self.maxpool3(x)\n",
    "\n",
    "        x = torch.flatten(x, 1)\n",
    "\n",
    "        x = self.linear1(x)\n",
    "        x = self.relu4(x)\n",
    "        x = self.dropout1(x)\n",
    "\n",
    "        x = self.linear2(x)\n",
    "        x = self.relu5(x)\n",
    "        x = self.dropout2(x)\n",
    "\n",
    "        x = self.linear3(x)\n",
    "    \n",
    "        return x\n"
   ]
  },
  {
   "cell_type": "code",
   "execution_count": 4,
   "id": "7c620321",
   "metadata": {},
   "outputs": [],
   "source": [
    "trainloader = DataLoader(cifar10Train, 64)\n",
    "testloader = DataLoader(cifar10Test, 64)"
   ]
  },
  {
   "cell_type": "code",
   "execution_count": 5,
   "id": "d6b32c0e",
   "metadata": {},
   "outputs": [],
   "source": [
    "def train_one_epoch(model, optimzer, loss_fn, training_loader):\n",
    "    running_loss = 0.\n",
    "    running_momentum = 0.\n",
    "\n",
    "    for i, data in enumerate(training_loader):\n",
    "        inputs, labels = data\n",
    "\n",
    "        optimizer.zero_grad()\n",
    "\n",
    "        outputs = model(inputs.to(device))\n",
    "\n",
    "        loss = loss_fn(outputs, labels.to(device))\n",
    "        loss.backward()\n",
    "\n",
    "        optimizer.step()\n",
    "           \n",
    "\n",
    "        running_loss += loss.item()\n",
    "\n",
    "        \n",
    "    average_loss = running_loss/(i+1)\n",
    "    \n",
    "\n",
    "    return average_loss"
   ]
  },
  {
   "cell_type": "code",
   "execution_count": 6,
   "id": "4f28d54d",
   "metadata": {},
   "outputs": [],
   "source": [
    "def evaluate(tdataset, model):\n",
    "    model.eval()\n",
    "    preds = []\n",
    "    truths = []\n",
    "    for example in tdataset:\n",
    "        input = example[0].unsqueeze(0).to(device)\n",
    "        logits = model(input)\n",
    "        pred = torch.argmax(torch.softmax(logits, 1))\n",
    "        preds.append(pred.item())\n",
    "        truths.append(example[1])\n",
    "    return accuracy_score(truths, preds), f1_score(truths, preds, average='macro'), preds, truths"
   ]
  },
  {
   "cell_type": "code",
   "execution_count": 7,
   "id": "4c247829",
   "metadata": {},
   "outputs": [],
   "source": [
    "def save_model(model, filepath):\n",
    "    torch.save(model.state_dict(), filepath)\n",
    "\n",
    "def load_model(model, filepath, device='cpu'):\n",
    "    model.load_state_dict(torch.load(filepath, map_location=device))\n",
    "    model.eval()"
   ]
  },
  {
   "cell_type": "code",
   "execution_count": 8,
   "id": "8dfa3b68",
   "metadata": {},
   "outputs": [],
   "source": [
    "cnn2 = CNN2().to(device)\n",
    "\n",
    "optimizer = torch.optim.Adam(cnn2.parameters(), lr=1e-3)\n",
    "loss_fn = nn.CrossEntropyLoss()"
   ]
  },
  {
   "cell_type": "code",
   "execution_count": 9,
   "id": "6b66be08",
   "metadata": {},
   "outputs": [
    {
     "name": "stdout",
     "output_type": "stream",
     "text": [
      "Epoch 1 | train loss: 1.886 | train accuracy: 0.42% | train f1: 0.40 | test loss: 1.543 | test accuracy: 0.41% | test f1: 0.39 | time: 10.98s\n",
      "Epoch 2 | train loss: 1.546 | train accuracy: 0.52% | train f1: 0.50 | test loss: 1.337 | test accuracy: 0.51% | test f1: 0.49 | time: 19.61s\n",
      "Epoch 3 | train loss: 1.404 | train accuracy: 0.56% | train f1: 0.55 | test loss: 1.225 | test accuracy: 0.55% | test f1: 0.54 | time: 28.36s\n",
      "Epoch 4 | train loss: 1.314 | train accuracy: 0.60% | train f1: 0.60 | test loss: 1.157 | test accuracy: 0.59% | test f1: 0.58 | time: 37.07s\n",
      "Epoch 5 | train loss: 1.239 | train accuracy: 0.64% | train f1: 0.64 | test loss: 1.081 | test accuracy: 0.62% | test f1: 0.61 | time: 45.80s\n",
      "Epoch 6 | train loss: 1.193 | train accuracy: 0.63% | train f1: 0.62 | test loss: 1.083 | test accuracy: 0.61% | test f1: 0.60 | time: 54.51s\n",
      "Epoch 7 | train loss: 1.142 | train accuracy: 0.67% | train f1: 0.67 | test loss: 1.001 | test accuracy: 0.64% | test f1: 0.64 | time: 63.30s\n",
      "Epoch 8 | train loss: 1.115 | train accuracy: 0.68% | train f1: 0.68 | test loss: 0.995 | test accuracy: 0.65% | test f1: 0.65 | time: 72.22s\n",
      "Epoch 9 | train loss: 1.087 | train accuracy: 0.69% | train f1: 0.69 | test loss: 0.972 | test accuracy: 0.66% | test f1: 0.66 | time: 81.22s\n",
      "Epoch 10 | train loss: 1.063 | train accuracy: 0.71% | train f1: 0.71 | test loss: 0.942 | test accuracy: 0.67% | test f1: 0.67 | time: 90.28s\n",
      "Epoch 11 | train loss: 1.047 | train accuracy: 0.71% | train f1: 0.71 | test loss: 0.935 | test accuracy: 0.68% | test f1: 0.67 | time: 99.43s\n",
      "Epoch 12 | train loss: 1.017 | train accuracy: 0.71% | train f1: 0.71 | test loss: 0.937 | test accuracy: 0.68% | test f1: 0.68 | time: 108.39s\n",
      "Epoch 13 | train loss: 1.003 | train accuracy: 0.72% | train f1: 0.72 | test loss: 0.921 | test accuracy: 0.68% | test f1: 0.67 | time: 117.39s\n",
      "Epoch 14 | train loss: 0.992 | train accuracy: 0.73% | train f1: 0.72 | test loss: 0.918 | test accuracy: 0.68% | test f1: 0.68 | time: 126.68s\n",
      "Epoch 15 | train loss: 0.979 | train accuracy: 0.72% | train f1: 0.72 | test loss: 0.936 | test accuracy: 0.67% | test f1: 0.68 | time: 135.73s\n",
      "Epoch 16 | train loss: 0.970 | train accuracy: 0.74% | train f1: 0.74 | test loss: 0.911 | test accuracy: 0.68% | test f1: 0.68 | time: 144.86s\n",
      "Epoch 17 | train loss: 0.954 | train accuracy: 0.74% | train f1: 0.73 | test loss: 0.912 | test accuracy: 0.68% | test f1: 0.68 | time: 154.05s\n",
      "Epoch 18 | train loss: 0.944 | train accuracy: 0.74% | train f1: 0.74 | test loss: 0.902 | test accuracy: 0.69% | test f1: 0.69 | time: 163.22s\n",
      "Epoch 19 | train loss: 0.932 | train accuracy: 0.74% | train f1: 0.74 | test loss: 0.916 | test accuracy: 0.69% | test f1: 0.69 | time: 172.30s\n",
      "Epoch 20 | train loss: 0.918 | train accuracy: 0.75% | train f1: 0.75 | test loss: 0.912 | test accuracy: 0.69% | test f1: 0.69 | time: 181.79s\n",
      "Epoch 21 | train loss: 0.921 | train accuracy: 0.75% | train f1: 0.75 | test loss: 0.899 | test accuracy: 0.69% | test f1: 0.69 | time: 190.79s\n",
      "Epoch 22 | train loss: 0.915 | train accuracy: 0.76% | train f1: 0.76 | test loss: 0.882 | test accuracy: 0.70% | test f1: 0.69 | time: 199.75s\n",
      "Epoch 23 | train loss: 0.901 | train accuracy: 0.74% | train f1: 0.73 | test loss: 0.926 | test accuracy: 0.68% | test f1: 0.68 | time: 208.69s\n",
      "Epoch 24 | train loss: 0.890 | train accuracy: 0.76% | train f1: 0.76 | test loss: 0.892 | test accuracy: 0.69% | test f1: 0.69 | time: 217.61s\n",
      "Epoch 25 | train loss: 0.881 | train accuracy: 0.75% | train f1: 0.75 | test loss: 0.891 | test accuracy: 0.69% | test f1: 0.69 | time: 226.57s\n"
     ]
    }
   ],
   "source": [
    "EPOCHS = 25\n",
    "\n",
    "total_time = 0\n",
    "\n",
    "max_f1 = -float('inf')\n",
    "\n",
    "log = []\n",
    "\n",
    "for epoch in range(EPOCHS):\n",
    "    begin = time.time()\n",
    "    \n",
    "    cnn2.train(True)\n",
    "    average_train_loss = train_one_epoch(cnn2, optimizer, loss_fn, trainloader)\n",
    "    \n",
    "    end = time.time()\n",
    "    total_time += end-begin\n",
    "\n",
    "    cnn2.eval()\n",
    "    running_test_loss = 0.\n",
    "    for i, data in enumerate(testloader):\n",
    "        inputs, labels = data\n",
    "        outputs = cnn2(inputs.to(device))\n",
    "        loss = loss_fn(outputs, labels.to(device))\n",
    "        running_test_loss += loss.item()\n",
    "    average_test_loss = running_test_loss/(i+1)\n",
    "    if (epoch+1)%1 == 0:\n",
    "        train_accuracy, train_f1, _, _ = evaluate(cifar10Train, cnn2)\n",
    "        test_accuracy, test_f1, _, _ = evaluate(cifar10Test, cnn2)\n",
    "        if test_f1 > max_f1:\n",
    "            max_f1 = test_f1\n",
    "            save_model(cnn2, './models/cnn2_4.pth')\n",
    "        log.append({'average_test_loss': average_test_loss, 'average_train_loss': average_train_loss, 'total_time': total_time, 'train_accuracy': train_accuracy, 'train_f1': train_f1, 'test_accuracy': test_accuracy, 'test_f1': test_f1})\n",
    "        print(f\"Epoch {epoch+1} | train loss: {average_train_loss:.3f} | train accuracy: {train_accuracy:.2f}% | train f1: {train_f1:.2f} | test loss: {average_test_loss:.3f} | test accuracy: {test_accuracy:.2f}% | test f1: {test_f1:.2f} | time: {total_time:.2f}s\")"
   ]
  },
  {
   "cell_type": "code",
   "execution_count": 10,
   "id": "0c7a4e8c",
   "metadata": {},
   "outputs": [],
   "source": [
    "import pickle\n",
    "\n",
    "pickle.dump(log, open('./logs/cnn2_4.pkl', 'wb'))"
   ]
  },
  {
   "cell_type": "code",
   "execution_count": null,
   "id": "41e55a98",
   "metadata": {},
   "outputs": [],
   "source": []
  }
 ],
 "metadata": {
  "kernelspec": {
   "display_name": "env",
   "language": "python",
   "name": "env"
  },
  "language_info": {
   "codemirror_mode": {
    "name": "ipython",
    "version": 3
   },
   "file_extension": ".py",
   "mimetype": "text/x-python",
   "name": "python",
   "nbconvert_exporter": "python",
   "pygments_lexer": "ipython3",
   "version": "3.8.10"
  }
 },
 "nbformat": 4,
 "nbformat_minor": 5
}
