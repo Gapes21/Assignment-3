{
 "cells": [
  {
   "cell_type": "markdown",
   "id": "309a0e3c",
   "metadata": {},
   "source": [
    "# Dataset\n",
    "\n",
    "CIFAR 10"
   ]
  },
  {
   "cell_type": "code",
   "execution_count": 1,
   "id": "93e13ecd",
   "metadata": {},
   "outputs": [
    {
     "name": "stdout",
     "output_type": "stream",
     "text": [
      "Files already downloaded and verified\n",
      "Files already downloaded and verified\n"
     ]
    }
   ],
   "source": [
    "import torchvision\n",
    "\n",
    "cifar10Train = torchvision.datasets.CIFAR10(\"./CIFAR10\", download=True, transform=lambda im: torchvision.transforms.functional.pil_to_tensor(im)/255)\n",
    "cifar10Test = torchvision.datasets.CIFAR10(\"./CIFAR10\", train=False, download=True, transform=lambda im: torchvision.transforms.functional.pil_to_tensor(im)/255)"
   ]
  },
  {
   "cell_type": "code",
   "execution_count": 2,
   "id": "a2377056",
   "metadata": {},
   "outputs": [],
   "source": [
    "import numpy as np\n",
    "import pandas as pd\n",
    "import time\n",
    "\n",
    "import torch\n",
    "import torch.nn as nn\n",
    "from torch.utils.data import DataLoader\n",
    "import PIL\n",
    "from sklearn.metrics import accuracy_score, f1_score\n",
    "\n",
    "device = 'cuda' if torch.cuda.is_available() else 'cpu'"
   ]
  },
  {
   "cell_type": "markdown",
   "id": "ad470287",
   "metadata": {},
   "source": [
    "# Models"
   ]
  },
  {
   "cell_type": "markdown",
   "id": "3a87a94d",
   "metadata": {},
   "source": [
    "## CNN4.2\n",
    "\n",
    "3 Conv, 2 FC, Dropout=0.4, Batch norm\n",
    "\n",
    "Activation fn: tanh\n",
    "\n",
    "Optimizer: Adam"
   ]
  },
  {
   "cell_type": "code",
   "execution_count": 3,
   "id": "d51879f5",
   "metadata": {},
   "outputs": [],
   "source": [
    "class CNN4(nn.Module):\n",
    "    def __init__(self):\n",
    "        super().__init__()\n",
    "\n",
    "        self.cnn1 = nn.Conv2d(3, 16, (3, 3), padding='same').to(device)\n",
    "        self.bn1 = nn.BatchNorm2d(16)\n",
    "        self.tanh1 = nn.Tanh()\n",
    "        self.maxpool1 = nn.MaxPool2d((2, 2), stride=(2, 2)).to(device)\n",
    "\n",
    "        self.cnn2 = nn.Conv2d(16, 32, (3, 3), padding='same').to(device)\n",
    "        self.bn2 = nn.BatchNorm2d(32)\n",
    "        self.tanh2 = nn.Tanh()\n",
    "        self.maxpool2 = nn.MaxPool2d((2, 2), stride=(2,2)).to(device)\n",
    "\n",
    "        self.cnn3 = nn.Conv2d(32, 64, (3, 3), padding='same').to(device)\n",
    "        self.bn3 = nn.BatchNorm2d(64)\n",
    "        self.tanh3 = nn.Tanh()\n",
    "        self.maxpool3 = nn.MaxPool2d((2, 2), stride=(2,2)).to(device)\n",
    "\n",
    "        self.linear1 = nn.Linear(64 * 4 * 4, 512)\n",
    "        self.tanh4 = nn.Tanh()\n",
    "        self.dropout1 = nn.Dropout(0.4)\n",
    "\n",
    "        self.linear2 = nn.Linear(512, 512)\n",
    "        self.tanh5 = nn.Tanh()\n",
    "        self.dropout2 = nn.Dropout(0.4)\n",
    "\n",
    "        self.linear3 = nn.Linear(512, 10)\n",
    "\n",
    "    def forward(self, inputs):\n",
    "        x = self.cnn1(inputs)\n",
    "        x = self.bn1(x)\n",
    "        x = self.tanh1(x)\n",
    "        x = self.maxpool1(x)\n",
    "\n",
    "        x = self.cnn2(x)\n",
    "        x = self.bn2(x)\n",
    "        x = self.tanh2(x)\n",
    "        x = self.maxpool2(x)\n",
    "\n",
    "        x = self.cnn3(x)\n",
    "        x = self.bn3(x)\n",
    "        x = self.tanh3(x)\n",
    "        x = self.maxpool3(x)\n",
    "\n",
    "        x = torch.flatten(x, 1)\n",
    "\n",
    "        x = self.linear1(x)\n",
    "        x = self.tanh4(x)\n",
    "        x = self.dropout1(x)\n",
    "\n",
    "        x = self.linear2(x)\n",
    "        x = self.tanh5(x)\n",
    "        x = self.dropout2(x)\n",
    "\n",
    "        x = self.linear3(x)\n",
    "    \n",
    "        return x\n"
   ]
  },
  {
   "cell_type": "code",
   "execution_count": 4,
   "id": "7c620321",
   "metadata": {},
   "outputs": [],
   "source": [
    "trainloader = DataLoader(cifar10Train, 64)\n",
    "testloader = DataLoader(cifar10Test, 64)"
   ]
  },
  {
   "cell_type": "code",
   "execution_count": 5,
   "id": "d6b32c0e",
   "metadata": {},
   "outputs": [],
   "source": [
    "def train_one_epoch(model, optimzer, loss_fn, training_loader):\n",
    "    running_loss = 0.\n",
    "    running_momentum = 0.\n",
    "\n",
    "    for i, data in enumerate(training_loader):\n",
    "        inputs, labels = data\n",
    "\n",
    "        optimizer.zero_grad()\n",
    "\n",
    "        outputs = model(inputs.to(device))\n",
    "\n",
    "        loss = loss_fn(outputs, labels.to(device))\n",
    "        loss.backward()\n",
    "\n",
    "        optimizer.step()\n",
    "           \n",
    "\n",
    "        running_loss += loss.item()\n",
    "\n",
    "        \n",
    "    average_loss = running_loss/(i+1)\n",
    "    \n",
    "\n",
    "    return average_loss"
   ]
  },
  {
   "cell_type": "code",
   "execution_count": 6,
   "id": "4f28d54d",
   "metadata": {},
   "outputs": [],
   "source": [
    "def evaluate(tdataset, model):\n",
    "    model.eval()\n",
    "    preds = []\n",
    "    truths = []\n",
    "    for example in tdataset:\n",
    "        input = example[0].unsqueeze(0).to(device)\n",
    "        logits = model(input)\n",
    "        pred = torch.argmax(torch.softmax(logits, 1))\n",
    "        preds.append(pred.item())\n",
    "        truths.append(example[1])\n",
    "    return accuracy_score(truths, preds), f1_score(truths, preds, average='macro'), preds, truths"
   ]
  },
  {
   "cell_type": "code",
   "execution_count": 7,
   "id": "4c247829",
   "metadata": {},
   "outputs": [],
   "source": [
    "def save_model(model, filepath):\n",
    "    torch.save(model.state_dict(), filepath)\n",
    "\n",
    "def load_model(model, filepath, device='cpu'):\n",
    "    model.load_state_dict(torch.load(filepath, map_location=device))\n",
    "    model.eval()"
   ]
  },
  {
   "cell_type": "code",
   "execution_count": 8,
   "id": "8dfa3b68",
   "metadata": {},
   "outputs": [],
   "source": [
    "cnn4 = CNN4().to(device)\n",
    "\n",
    "optimizer = torch.optim.Adam(cnn4.parameters(), lr=1e-3)\n",
    "loss_fn = nn.CrossEntropyLoss()"
   ]
  },
  {
   "cell_type": "code",
   "execution_count": 9,
   "id": "6b66be08",
   "metadata": {
    "scrolled": true
   },
   "outputs": [
    {
     "name": "stdout",
     "output_type": "stream",
     "text": [
      "Epoch 1 | train loss: 1.442 | train accuracy: 59.90% | train f1: 0.60 | test loss: 1.161 | test accuracy: 58.64% | test f1: 0.59 | time: 11.16s\n",
      "Epoch 2 | train loss: 1.124 | train accuracy: 64.33% | train f1: 0.64 | test loss: 1.071 | test accuracy: 62.03% | test f1: 0.61 | time: 20.13s\n",
      "Epoch 3 | train loss: 0.993 | train accuracy: 69.74% | train f1: 0.69 | test loss: 0.961 | test accuracy: 66.29% | test f1: 0.66 | time: 29.11s\n",
      "Epoch 4 | train loss: 0.906 | train accuracy: 71.98% | train f1: 0.71 | test loss: 0.945 | test accuracy: 67.06% | test f1: 0.66 | time: 38.00s\n",
      "Epoch 5 | train loss: 0.838 | train accuracy: 72.27% | train f1: 0.71 | test loss: 0.963 | test accuracy: 67.26% | test f1: 0.66 | time: 46.93s\n",
      "Epoch 6 | train loss: 0.781 | train accuracy: 74.91% | train f1: 0.75 | test loss: 0.912 | test accuracy: 68.66% | test f1: 0.68 | time: 55.98s\n",
      "Epoch 7 | train loss: 0.730 | train accuracy: 79.65% | train f1: 0.79 | test loss: 0.851 | test accuracy: 71.52% | test f1: 0.71 | time: 65.07s\n",
      "Epoch 8 | train loss: 0.688 | train accuracy: 79.30% | train f1: 0.79 | test loss: 0.899 | test accuracy: 70.75% | test f1: 0.70 | time: 74.19s\n",
      "Epoch 9 | train loss: 0.647 | train accuracy: 80.42% | train f1: 0.80 | test loss: 0.888 | test accuracy: 71.21% | test f1: 0.71 | time: 83.32s\n",
      "Epoch 10 | train loss: 0.618 | train accuracy: 83.19% | train f1: 0.83 | test loss: 0.856 | test accuracy: 72.49% | test f1: 0.73 | time: 92.63s\n",
      "Epoch 11 | train loss: 0.583 | train accuracy: 83.57% | train f1: 0.84 | test loss: 0.919 | test accuracy: 71.45% | test f1: 0.71 | time: 101.92s\n",
      "Epoch 12 | train loss: 0.559 | train accuracy: 84.60% | train f1: 0.85 | test loss: 0.917 | test accuracy: 72.35% | test f1: 0.72 | time: 111.21s\n",
      "Epoch 13 | train loss: 0.524 | train accuracy: 85.36% | train f1: 0.85 | test loss: 0.934 | test accuracy: 72.32% | test f1: 0.72 | time: 120.49s\n",
      "Epoch 14 | train loss: 0.509 | train accuracy: 79.43% | train f1: 0.80 | test loss: 1.105 | test accuracy: 67.87% | test f1: 0.68 | time: 129.83s\n",
      "Epoch 15 | train loss: 0.492 | train accuracy: 78.84% | train f1: 0.79 | test loss: 1.140 | test accuracy: 67.26% | test f1: 0.67 | time: 139.13s\n",
      "Epoch 16 | train loss: 0.465 | train accuracy: 82.85% | train f1: 0.83 | test loss: 1.088 | test accuracy: 69.66% | test f1: 0.69 | time: 148.25s\n",
      "Epoch 17 | train loss: 0.451 | train accuracy: 82.58% | train f1: 0.83 | test loss: 1.099 | test accuracy: 69.23% | test f1: 0.69 | time: 157.40s\n",
      "Epoch 18 | train loss: 0.434 | train accuracy: 84.68% | train f1: 0.85 | test loss: 1.071 | test accuracy: 70.41% | test f1: 0.70 | time: 166.32s\n",
      "Epoch 19 | train loss: 0.419 | train accuracy: 86.48% | train f1: 0.87 | test loss: 1.085 | test accuracy: 70.71% | test f1: 0.71 | time: 175.12s\n",
      "Epoch 20 | train loss: 0.402 | train accuracy: 88.83% | train f1: 0.89 | test loss: 1.061 | test accuracy: 71.37% | test f1: 0.71 | time: 183.96s\n",
      "Epoch 21 | train loss: 0.392 | train accuracy: 88.20% | train f1: 0.88 | test loss: 1.063 | test accuracy: 71.86% | test f1: 0.72 | time: 192.88s\n",
      "Epoch 22 | train loss: 0.377 | train accuracy: 91.18% | train f1: 0.91 | test loss: 1.041 | test accuracy: 72.57% | test f1: 0.73 | time: 201.95s\n",
      "Epoch 23 | train loss: 0.366 | train accuracy: 91.27% | train f1: 0.91 | test loss: 1.047 | test accuracy: 72.84% | test f1: 0.73 | time: 211.07s\n",
      "Epoch 24 | train loss: 0.356 | train accuracy: 90.62% | train f1: 0.91 | test loss: 1.122 | test accuracy: 72.26% | test f1: 0.72 | time: 220.23s\n",
      "Epoch 25 | train loss: 0.343 | train accuracy: 89.65% | train f1: 0.90 | test loss: 1.138 | test accuracy: 71.77% | test f1: 0.72 | time: 229.40s\n"
     ]
    }
   ],
   "source": [
    "EPOCHS = 25\n",
    "\n",
    "total_time = 0\n",
    "\n",
    "max_f1 = -float('inf')\n",
    "\n",
    "log = []\n",
    "\n",
    "for epoch in range(EPOCHS):\n",
    "    begin = time.time()\n",
    "    \n",
    "    cnn4.train(True)\n",
    "    average_train_loss = train_one_epoch(cnn4, optimizer, loss_fn, trainloader)\n",
    "    \n",
    "    end = time.time()\n",
    "    total_time += end-begin\n",
    "\n",
    "    cnn4.eval()\n",
    "    running_test_loss = 0.\n",
    "    for i, data in enumerate(testloader):\n",
    "        inputs, labels = data\n",
    "        outputs = cnn4(inputs.to(device))\n",
    "        loss = loss_fn(outputs, labels.to(device))\n",
    "        running_test_loss += loss.item()\n",
    "    average_test_loss = running_test_loss/(i+1)\n",
    "    end = time.time()\n",
    "    if (epoch+1)%1 == 0:\n",
    "        train_accuracy, train_f1, _, _ = evaluate(cifar10Train, cnn4)\n",
    "        test_accuracy, test_f1, _, _ = evaluate(cifar10Test, cnn4)\n",
    "        if test_f1 > max_f1:\n",
    "            max_f1 = test_f1\n",
    "            save_model(cnn4, './models/cnn4_2.pth')\n",
    "        log.append({'average_test_loss': average_test_loss, 'average_train_loss': average_train_loss, 'total_time': total_time, 'train_accuracy': train_accuracy, 'train_f1': train_f1, 'test_accuracy': test_accuracy, 'test_f1': test_f1})\n",
    "        print(f\"Epoch {epoch+1} | train loss: {average_train_loss:.3f} | train accuracy: {100*train_accuracy:.2f}% | train f1: {train_f1:.2f} | test loss: {average_test_loss:.3f} | test accuracy: {100*test_accuracy:.2f}% | test f1: {test_f1:.2f} | time: {total_time:.2f}s\")"
   ]
  },
  {
   "cell_type": "code",
   "execution_count": 10,
   "id": "0c7a4e8c",
   "metadata": {},
   "outputs": [],
   "source": [
    "import pickle\n",
    "\n",
    "pickle.dump(log, open('./logs/cnn4_2.pkl', 'wb'))"
   ]
  },
  {
   "cell_type": "code",
   "execution_count": null,
   "id": "6cc62e92",
   "metadata": {},
   "outputs": [],
   "source": []
  }
 ],
 "metadata": {
  "kernelspec": {
   "display_name": "env",
   "language": "python",
   "name": "env"
  },
  "language_info": {
   "codemirror_mode": {
    "name": "ipython",
    "version": 3
   },
   "file_extension": ".py",
   "mimetype": "text/x-python",
   "name": "python",
   "nbconvert_exporter": "python",
   "pygments_lexer": "ipython3",
   "version": "3.8.10"
  }
 },
 "nbformat": 4,
 "nbformat_minor": 5
}
