{
 "cells": [
  {
   "cell_type": "markdown",
   "id": "309a0e3c",
   "metadata": {},
   "source": [
    "# Dataset\n",
    "\n",
    "CIFAR 10"
   ]
  },
  {
   "cell_type": "code",
   "execution_count": null,
   "id": "93e13ecd",
   "metadata": {},
   "outputs": [
    {
     "name": "stdout",
     "output_type": "stream",
     "text": [
      "Files already downloaded and verified\n"
     ]
    }
   ],
   "source": [
    "import torchvision\n",
    "\n",
    "cifar10Train = torchvision.datasets.CIFAR10(\"./CIFAR10\", download=True, transform=lambda im: torchvision.transforms.functional.pil_to_tensor(im)/255)\n",
    "cifar10Test = torchvision.datasets.CIFAR10(\"./CIFAR10\", train=False, download=True, transform=lambda im: torchvision.transforms.functional.pil_to_tensor(im)/255)"
   ]
  },
  {
   "cell_type": "code",
   "execution_count": null,
   "id": "a2377056",
   "metadata": {},
   "outputs": [],
   "source": [
    "import numpy as np\n",
    "import pandas as pd\n",
    "import time\n",
    "\n",
    "import torch\n",
    "import torch.nn as nn\n",
    "from torch.utils.data import DataLoader\n",
    "import PIL\n",
    "from sklearn.metrics import accuracy_score, f1_score\n",
    "\n",
    "device = 'cuda' if torch.cuda.is_available() else 'cpu'"
   ]
  },
  {
   "cell_type": "markdown",
   "id": "ad470287",
   "metadata": {},
   "source": [
    "# Models"
   ]
  },
  {
   "cell_type": "markdown",
   "id": "3a87a94d",
   "metadata": {},
   "source": [
    "## CNN5\n",
    "\n",
    "3 Conv, 2 FC, Dropout=0.4, Batch norm, skip connections\n",
    "\n",
    "Activation fn: GELU\n",
    "\n",
    "Optimizer: Adam"
   ]
  },
  {
   "cell_type": "code",
   "execution_count": null,
   "id": "d51879f5",
   "metadata": {},
   "outputs": [],
   "source": [
    "class CNN5(nn.Module):\n",
    "    def __init__(self):\n",
    "        super().__init__()\n",
    "\n",
    "        self.cnn1 = nn.Conv2d(3, 16, (3, 3), padding='same').to(device)\n",
    "        self.bn1 = nn.BatchNorm2d(16)\n",
    "        self.gelu1 = nn.GELU()\n",
    "        self.maxpool1 = nn.MaxPool2d((2, 2), stride=(2, 2)).to(device)\n",
    "\n",
    "        self.cnn2 = nn.Conv2d(16, 32, (3, 3), padding='same').to(device)\n",
    "        self.bn2 = nn.BatchNorm2d(32)\n",
    "        self.gelu2 = nn.GELU()\n",
    "        self.maxpool2 = nn.MaxPool2d((2, 2), stride=(2,2)).to(device)\n",
    "\n",
    "        self.cnn3 = nn.Conv2d(32, 64, (3, 3), padding='same').to(device)\n",
    "        self.bn3 = nn.BatchNorm2d(64)\n",
    "        self.gelu3 = nn.GELU()\n",
    "        self.maxpool3 = nn.MaxPool2d((2, 2), stride=(2,2)).to(device)\n",
    "\n",
    "        self.linear1 = nn.Linear(64 * 4 * 4, 512)\n",
    "        self.gelu4 = nn.GELU()\n",
    "        self.dropout1 = nn.Dropout(0.4)\n",
    "\n",
    "        self.linear2 = nn.Linear(512, 512)\n",
    "        self.gelu5 = nn.GELU()\n",
    "        self.dropout2 = nn.Dropout(0.4)\n",
    "\n",
    "        self.linear3 = nn.Linear(512, 10)\n",
    "\n",
    "    def forward(self, inputs):\n",
    "        x1 = self.cnn1(inputs)\n",
    "        x1 = self.bn1(x1)\n",
    "        x1 = self.gelu1(x1)\n",
    "        x1 += inputs\n",
    "        x1 = self.maxpool1(x1)\n",
    "\n",
    "        x2 = self.cnn2(x1)\n",
    "        x2 = self.bn2(x2)\n",
    "        x2 = self.gelu2(x2)\n",
    "        x2 += x1\n",
    "        x2 = self.maxpool2(x2)\n",
    "\n",
    "        x3 = self.cnn3(x2)\n",
    "        x3 = self.bn3(x3)\n",
    "        x3 = self.gelu3(x3)\n",
    "        x3 += x2\n",
    "        x3 = self.maxpool3(x3)\n",
    "\n",
    "        x = torch.flatten(x3, 1)\n",
    "\n",
    "        x = self.linear1(x)\n",
    "        x = self.gelu4(x)\n",
    "        x = self.dropout1(x)\n",
    "\n",
    "        x = self.linear2(x)\n",
    "        x = self.gelu5(x)\n",
    "        x = self.dropout2(x)\n",
    "\n",
    "        x = self.linear3(x)\n",
    "    \n",
    "        return x\n"
   ]
  },
  {
   "cell_type": "code",
   "execution_count": null,
   "id": "7c620321",
   "metadata": {},
   "outputs": [],
   "source": [
    "trainloader = DataLoader(cifar10Train, 64)\n",
    "testloader = DataLoader(cifar10Test, 64)"
   ]
  },
  {
   "cell_type": "code",
   "execution_count": null,
   "id": "d6b32c0e",
   "metadata": {},
   "outputs": [],
   "source": [
    "def train_one_epoch(model, optimzer, loss_fn, training_loader):\n",
    "    running_loss = 0.\n",
    "    running_momentum = 0.\n",
    "\n",
    "    for i, data in enumerate(training_loader):\n",
    "        inputs, labels = data\n",
    "\n",
    "        optimizer.zero_grad()\n",
    "\n",
    "        outputs = model(inputs.to(device))\n",
    "\n",
    "        loss = loss_fn(outputs, labels.to(device))\n",
    "        loss.backward()\n",
    "\n",
    "        optimizer.step()\n",
    "           \n",
    "\n",
    "        running_loss += loss.item()\n",
    "\n",
    "        \n",
    "    average_loss = running_loss/(i+1)\n",
    "    \n",
    "\n",
    "    return average_loss"
   ]
  },
  {
   "cell_type": "code",
   "execution_count": null,
   "id": "4f28d54d",
   "metadata": {},
   "outputs": [],
   "source": [
    "def evaluate(tdataset, model):\n",
    "    model.eval()\n",
    "    preds = []\n",
    "    truths = []\n",
    "    for example in tdataset:\n",
    "        input = example[0].unsqueeze(0).to(device)\n",
    "        logits = model(input)\n",
    "        pred = torch.argmax(torch.softmax(logits, 1))\n",
    "        preds.append(pred.item())\n",
    "        truths.append(example[1])\n",
    "    return accuracy_score(truths, preds), f1_score(truths, preds, average='macro'), preds, truths"
   ]
  },
  {
   "cell_type": "code",
   "execution_count": null,
   "id": "4c247829",
   "metadata": {},
   "outputs": [],
   "source": [
    "def save_model(model, filepath):\n",
    "    torch.save(model.state_dict(), filepath)\n",
    "\n",
    "def load_model(model, filepath, device='cpu'):\n",
    "    model.load_state_dict(torch.load(filepath, map_location=device))\n",
    "    model.eval()"
   ]
  },
  {
   "cell_type": "code",
   "execution_count": null,
   "id": "8dfa3b68",
   "metadata": {},
   "outputs": [],
   "source": [
    "cnn5 = CNN5().to(device)\n",
    "\n",
    "optimizer = torch.optim.Adam(cnn5.parameters(), lr=1e-3)\n",
    "loss_fn = nn.CrossEntropyLoss()"
   ]
  },
  {
   "cell_type": "code",
   "execution_count": null,
   "id": "6b66be08",
   "metadata": {},
   "outputs": [],
   "source": [
    "EPOCHS = 25\n",
    "\n",
    "total_time = 0\n",
    "\n",
    "max_f1 = -float('inf')\n",
    "\n",
    "log = []\n",
    "\n",
    "for epoch in range(EPOCHS):\n",
    "    begin = time.time()\n",
    "    \n",
    "    cnn5.train(True)\n",
    "    average_train_loss = train_one_epoch(cnn5, optimizer, loss_fn, trainloader)\n",
    "    \n",
    "    end = time.time()\n",
    "    total_time += end-begin\n",
    "\n",
    "    cnn5.eval()\n",
    "    running_test_loss = 0.\n",
    "    for i, data in enumerate(testloader):\n",
    "        inputs, labels = data\n",
    "        outputs = cnn5(inputs.to(device))\n",
    "        loss = loss_fn(outputs, labels.to(device))\n",
    "        running_test_loss += loss.item()\n",
    "    average_test_loss = running_test_loss/(i+1)\n",
    "    end = time.time()\n",
    "    if (epoch+1)%1 == 0:\n",
    "        train_accuracy, train_f1, _, _ = evaluate(cifar10Train, cnn5)\n",
    "        test_accuracy, test_f1, _, _ = evaluate(cifar10Test, cnn5)\n",
    "        if test_f1 > max_f1:\n",
    "            max_f1 = test_f1\n",
    "            save_model(cnn5, './models/cnn5.pth')\n",
    "        log.append({'average_test_loss': average_test_loss, 'average_train_loss': average_train_loss, 'total_time': total_time, 'train_accuracy': train_accuracy, 'train_f1': train_f1, 'test_accuracy': test_accuracy, 'test_f1': test_f1})\n",
    "        print(f\"Epoch {epoch+1} | train loss: {average_train_loss:.3f} | train accuracy: {100*train_accuracy:.2f}% | train f1: {train_f1:.2f} | test loss: {average_test_loss:.3f} | test accuracy: {100*test_accuracy:.2f}% | test f1: {test_f1:.2f} | time: {total_time:.2f}s\")"
   ]
  },
  {
   "cell_type": "code",
   "execution_count": null,
   "id": "0c7a4e8c",
   "metadata": {},
   "outputs": [],
   "source": [
    "import pickle\n",
    "\n",
    "pickle.dump(log, open('./logs/cnn5.pkl', 'wb'))"
   ]
  },
  {
   "cell_type": "code",
   "execution_count": null,
   "id": "6cc62e92",
   "metadata": {},
   "outputs": [],
   "source": []
  }
 ],
 "metadata": {
  "kernelspec": {
   "display_name": "env",
   "language": "python",
   "name": "env"
  },
  "language_info": {
   "codemirror_mode": {
    "name": "ipython",
    "version": 3
   },
   "file_extension": ".py",
   "mimetype": "text/x-python",
   "name": "python",
   "nbconvert_exporter": "python",
   "pygments_lexer": "ipython3",
   "version": "3.8.10"
  }
 },
 "nbformat": 4,
 "nbformat_minor": 5
}
