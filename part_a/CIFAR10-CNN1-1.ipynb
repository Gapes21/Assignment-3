{
 "cells": [
  {
   "cell_type": "markdown",
   "id": "309a0e3c",
   "metadata": {},
   "source": [
    "# Dataset\n",
    "\n",
    "CIFAR 10"
   ]
  },
  {
   "cell_type": "code",
   "execution_count": 1,
   "id": "93e13ecd",
   "metadata": {},
   "outputs": [
    {
     "name": "stdout",
     "output_type": "stream",
     "text": [
      "Files already downloaded and verified\n",
      "Files already downloaded and verified\n"
     ]
    }
   ],
   "source": [
    "import torchvision\n",
    "\n",
    "cifar10Train = torchvision.datasets.CIFAR10(\"./CIFAR10\", download=True, transform=lambda im: torchvision.transforms.functional.pil_to_tensor(im)/255)\n",
    "cifar10Test = torchvision.datasets.CIFAR10(\"./CIFAR10\", train=False, download=True, transform=lambda im: torchvision.transforms.functional.pil_to_tensor(im)/255)"
   ]
  },
  {
   "cell_type": "code",
   "execution_count": 24,
   "id": "a2377056",
   "metadata": {},
   "outputs": [],
   "source": [
    "import numpy as np\n",
    "import pandas as pd\n",
    "import time\n",
    "\n",
    "import torch\n",
    "import torch.nn as nn\n",
    "from torch.utils.data import DataLoader\n",
    "import PIL\n",
    "from sklearn.metrics import accuracy_score, f1_score\n",
    "\n",
    "device = 'cuda' if torch.cuda.is_available() else 'cpu'"
   ]
  },
  {
   "cell_type": "markdown",
   "id": "ad470287",
   "metadata": {},
   "source": [
    "# Models"
   ]
  },
  {
   "cell_type": "markdown",
   "id": "3a87a94d",
   "metadata": {},
   "source": [
    "## CNN1.1\n",
    "\n",
    "3 Conv, 2 FC, No dropout, no batch norm\n",
    "\n",
    "Activation fn: ReLU\n",
    "\n",
    "Optimizer: SGD with momentum"
   ]
  },
  {
   "cell_type": "code",
   "execution_count": 3,
   "id": "d51879f5",
   "metadata": {},
   "outputs": [],
   "source": [
    "class CNN1(nn.Module):\n",
    "    def __init__(self):\n",
    "        super().__init__()\n",
    "\n",
    "        self.cnn1 = nn.Conv2d(3, 16, (3, 3), padding='same').to(device)\n",
    "        self.relu1 = nn.ReLU()\n",
    "        self.maxpool1 = nn.MaxPool2d((2, 2), stride=(2, 2)).to(device)\n",
    "\n",
    "        self.cnn2 = nn.Conv2d(16, 32, (3, 3), padding='same').to(device)\n",
    "        self.relu2 = nn.ReLU()\n",
    "        self.maxpool2 = nn.MaxPool2d((2, 2), stride=(2,2)).to(device)\n",
    "\n",
    "        self.cnn3 = nn.Conv2d(32, 64, (3, 3), padding='same').to(device)\n",
    "        self.relu3 = nn.ReLU()\n",
    "        self.maxpool3 = nn.MaxPool2d((2, 2), stride=(2,2)).to(device)\n",
    "\n",
    "        self.linear1 = nn.Linear(64 * 4 * 4, 512)\n",
    "        self.relu4 = nn.ReLU()\n",
    "\n",
    "        self.linear2 = nn.Linear(512, 512)\n",
    "        self.relu5 = nn.ReLU()\n",
    "\n",
    "        self.linear3 = nn.Linear(512, 10)\n",
    "\n",
    "    def forward(self, inputs):\n",
    "        x = self.cnn1(inputs)\n",
    "        x = self.relu1(x)\n",
    "        x = self.maxpool1(x)\n",
    "\n",
    "        x = self.cnn2(x)\n",
    "        x = self.relu2(x)\n",
    "        x = self.maxpool2(x)\n",
    "\n",
    "        x = self.cnn3(x)\n",
    "        x = self.relu3(x)\n",
    "        x = self.maxpool3(x)\n",
    "\n",
    "        x = torch.flatten(x, 1)\n",
    "\n",
    "        x = self.linear1(x)\n",
    "        x = self.relu4(x)\n",
    "\n",
    "        x = self.linear2(x)\n",
    "        x = self.relu5(x)\n",
    "\n",
    "        x = self.linear3(x)\n",
    "    \n",
    "        return x\n"
   ]
  },
  {
   "cell_type": "code",
   "execution_count": 16,
   "id": "7c620321",
   "metadata": {},
   "outputs": [],
   "source": [
    "trainloader = DataLoader(cifar10Train, 64)\n",
    "testloader = DataLoader(cifar10Test, 64)"
   ]
  },
  {
   "cell_type": "code",
   "execution_count": 21,
   "id": "d6b32c0e",
   "metadata": {},
   "outputs": [],
   "source": [
    "def train_one_epoch(model, optimzer, loss_fn, training_loader, track_momentum=False):\n",
    "    running_loss = 0.\n",
    "    running_momentum = 0.\n",
    "\n",
    "    for i, data in enumerate(training_loader):\n",
    "        inputs, labels = data\n",
    "\n",
    "        optimizer.zero_grad()\n",
    "\n",
    "        outputs = model(inputs.to(device))\n",
    "\n",
    "        loss = loss_fn(outputs, labels.to(device))\n",
    "        loss.backward()\n",
    "\n",
    "        optimizer.step()\n",
    "        if track_momentum:\n",
    "            temp = 0\n",
    "            for j in range(len(optimizer.state)):\n",
    "                temp += torch.mean(list(optimizer.state.values())[j]['momentum_buffer']).item()\n",
    "            running_momentum += temp/j\n",
    "\n",
    "        running_loss += loss.item()\n",
    "\n",
    "        \n",
    "    average_loss = running_loss/(i+1)\n",
    "    \n",
    "    if track_momentum:\n",
    "        return average_loss, running_momentum/(i+1)\n",
    "\n",
    "    return average_loss"
   ]
  },
  {
   "cell_type": "code",
   "execution_count": 18,
   "id": "4f28d54d",
   "metadata": {},
   "outputs": [],
   "source": [
    "def evaluate(tdataset, model):\n",
    "    preds = []\n",
    "    truths = []\n",
    "    for example in tdataset:\n",
    "        input = example[0].unsqueeze(0).to(device)\n",
    "        logits = model(input)\n",
    "        pred = torch.argmax(torch.softmax(logits, 1))\n",
    "        preds.append(pred.item())\n",
    "        truths.append(example[1])\n",
    "    return accuracy_score(truths, preds), f1_score(truths, preds, average='macro'), preds, truths"
   ]
  },
  {
   "cell_type": "code",
   "execution_count": 19,
   "id": "4c247829",
   "metadata": {},
   "outputs": [],
   "source": [
    "def save_model(model, filepath):\n",
    "    torch.save(model.state_dict(), filepath)\n",
    "\n",
    "def load_model(model, filepath, device='cpu'):\n",
    "    model.load_state_dict(torch.load(filepath, map_location=device))\n",
    "    model.eval()"
   ]
  },
  {
   "cell_type": "code",
   "execution_count": 22,
   "id": "8dfa3b68",
   "metadata": {},
   "outputs": [],
   "source": [
    "cnn1 = CNN1().to(device)\n",
    "\n",
    "optimizer = torch.optim.SGD(cnn1.parameters(), 1e-3, momentum=0.9)\n",
    "loss_fn = nn.CrossEntropyLoss()"
   ]
  },
  {
   "cell_type": "code",
   "execution_count": 23,
   "id": "6b66be08",
   "metadata": {},
   "outputs": [
    {
     "name": "stdout",
     "output_type": "stream",
     "text": [
      "Epoch 5 | train loss: 2.294 | train accuracy: 18.11% | train f1: 0.10 | test loss: 2.284 | test accuracy: 17.82% | test f1: 0.10 | avg_momentum: -0.0008781357316393604 | time: 51.51s\n",
      "Epoch 10 | train loss: 1.757 | train accuracy: 38.27% | train f1: 0.36 | test loss: 1.683 | test accuracy: 38.83% | test f1: 0.37 | avg_momentum: -0.00017532605925480718 | time: 156.90s\n",
      "Epoch 15 | train loss: 1.344 | train accuracy: 52.73% | train f1: 0.52 | test loss: 1.313 | test accuracy: 52.95% | test f1: 0.52 | avg_momentum: 0.0004872358550690589 | time: 262.37s\n",
      "Epoch 20 | train loss: 1.125 | train accuracy: 61.61% | train f1: 0.61 | test loss: 1.123 | test accuracy: 60.35% | test f1: 0.60 | avg_momentum: 4.113017092042296e-05 | time: 367.74s\n",
      "Epoch 25 | train loss: 0.956 | train accuracy: 68.54% | train f1: 0.69 | test loss: 1.000 | test accuracy: 65.52% | test f1: 0.66 | avg_momentum: -0.0001206449630780685 | time: 473.09s\n",
      "Epoch 30 | train loss: 0.810 | train accuracy: 73.06% | train f1: 0.73 | test loss: 0.951 | test accuracy: 67.39% | test f1: 0.68 | avg_momentum: 3.525153427677969e-05 | time: 578.29s\n",
      "Epoch 35 | train loss: 0.676 | train accuracy: 75.94% | train f1: 0.76 | test loss: 0.972 | test accuracy: 67.72% | test f1: 0.68 | avg_momentum: 0.0001685048691027388 | time: 683.88s\n",
      "Epoch 40 | train loss: 0.538 | train accuracy: 81.54% | train f1: 0.82 | test loss: 0.961 | test accuracy: 69.08% | test f1: 0.69 | avg_momentum: 0.00017873575757253467 | time: 789.70s\n",
      "Epoch 45 | train loss: 0.410 | train accuracy: 84.07% | train f1: 0.84 | test loss: 1.095 | test accuracy: 68.38% | test f1: 0.68 | avg_momentum: 0.0004074377951974309 | time: 895.17s\n",
      "Epoch 50 | train loss: 0.331 | train accuracy: 86.76% | train f1: 0.87 | test loss: 1.221 | test accuracy: 68.05% | test f1: 0.68 | avg_momentum: 0.0004976000058884451 | time: 1000.27s\n",
      "Epoch 55 | train loss: 0.237 | train accuracy: 90.66% | train f1: 0.91 | test loss: 1.384 | test accuracy: 68.55% | test f1: 0.69 | avg_momentum: 0.00011785402686431042 | time: 1104.86s\n",
      "Epoch 60 | train loss: 0.150 | train accuracy: 92.32% | train f1: 0.92 | test loss: 1.594 | test accuracy: 68.35% | test f1: 0.68 | avg_momentum: 0.000346544994743614 | time: 1209.97s\n",
      "Epoch 65 | train loss: 0.087 | train accuracy: 95.67% | train f1: 0.96 | test loss: 1.794 | test accuracy: 69.12% | test f1: 0.69 | avg_momentum: 1.6210743060254635e-05 | time: 1315.02s\n",
      "Epoch 70 | train loss: 0.049 | train accuracy: 96.27% | train f1: 0.96 | test loss: 2.074 | test accuracy: 68.44% | test f1: 0.69 | avg_momentum: 0.00021616428517181623 | time: 1419.99s\n",
      "Epoch 75 | train loss: 0.020 | train accuracy: 98.88% | train f1: 0.99 | test loss: 2.231 | test accuracy: 69.75% | test f1: 0.70 | avg_momentum: -0.0001923458333218948 | time: 1525.12s\n",
      "Epoch 80 | train loss: 0.006 | train accuracy: 99.82% | train f1: 1.00 | test loss: 2.419 | test accuracy: 70.27% | test f1: 0.70 | avg_momentum: -9.16625725613022e-05 | time: 1629.66s\n",
      "Epoch 85 | train loss: 0.001 | train accuracy: 100.00% | train f1: 1.00 | test loss: 2.565 | test accuracy: 70.70% | test f1: 0.71 | avg_momentum: -6.136538977456544e-05 | time: 1732.66s\n",
      "Epoch 90 | train loss: 0.001 | train accuracy: 100.00% | train f1: 1.00 | test loss: 2.669 | test accuracy: 70.76% | test f1: 0.71 | avg_momentum: -3.757419220826531e-05 | time: 1836.02s\n",
      "Epoch 95 | train loss: 0.001 | train accuracy: 100.00% | train f1: 1.00 | test loss: 2.739 | test accuracy: 70.80% | test f1: 0.71 | avg_momentum: -2.768084967253582e-05 | time: 1940.26s\n",
      "Epoch 100 | train loss: 0.000 | train accuracy: 100.00% | train f1: 1.00 | test loss: 2.794 | test accuracy: 70.72% | test f1: 0.71 | avg_momentum: -2.141728429344972e-05 | time: 2044.99s\n",
      "Epoch 105 | train loss: 0.000 | train accuracy: 100.00% | train f1: 1.00 | test loss: 2.839 | test accuracy: 70.77% | test f1: 0.71 | avg_momentum: -1.6835011949418997e-05 | time: 2150.04s\n",
      "Epoch 110 | train loss: 0.000 | train accuracy: 100.00% | train f1: 1.00 | test loss: 2.877 | test accuracy: 70.79% | test f1: 0.71 | avg_momentum: -1.4145370979950382e-05 | time: 2255.46s\n",
      "Epoch 115 | train loss: 0.000 | train accuracy: 100.00% | train f1: 1.00 | test loss: 2.910 | test accuracy: 70.78% | test f1: 0.71 | avg_momentum: -1.2603383420676888e-05 | time: 2360.45s\n",
      "Epoch 120 | train loss: 0.000 | train accuracy: 100.00% | train f1: 1.00 | test loss: 2.940 | test accuracy: 70.83% | test f1: 0.71 | avg_momentum: -1.1539204019682885e-05 | time: 2464.89s\n"
     ]
    }
   ],
   "source": [
    "EPOCHS = 120\n",
    "\n",
    "begin = time.time()\n",
    "\n",
    "max_f1 = -float('inf')\n",
    "\n",
    "log = []\n",
    "\n",
    "for epoch in range(EPOCHS):\n",
    "    cnn1.train(True)\n",
    "    average_train_loss, avg_momentum = train_one_epoch(cnn1, optimizer, loss_fn, trainloader, track_momentum=True)\n",
    "\n",
    "    cnn1.eval()\n",
    "    running_test_loss = 0.\n",
    "    for i, data in enumerate(testloader):\n",
    "        inputs, labels = data\n",
    "        outputs = cnn1(inputs.to(device))\n",
    "        loss = loss_fn(outputs, labels.to(device))\n",
    "        running_test_loss += loss.item()\n",
    "    average_test_loss = running_test_loss/(i+1)\n",
    "    end = time.time()\n",
    "    log.append({'average_test_loss': average_test_loss, 'average_train_loss': average_train_loss, 'average_momentum': avg_momentum, 'time_from_start': end-begin})\n",
    "    if (epoch+1)%5 == 0:\n",
    "        train_accuracy, train_f1, _, _ = evaluate(cifar10Train, cnn1)\n",
    "        test_accuracy, test_f1, _, _ = evaluate(cifar10Test, cnn1)\n",
    "        if test_f1 > max_f1:\n",
    "            max_f1 = test_f1\n",
    "            save_model(cnn1, './models/cnn1-1.pth')\n",
    "        print(f\"Epoch {epoch+1} | train loss: {average_train_loss:.3f} | train accuracy: {100*train_accuracy:.2f}% | train f1: {train_f1:.2f} | test loss: {average_test_loss:.3f} | test accuracy: {100*test_accuracy:.2f}% | test f1: {test_f1:.2f} | avg_momentum: {avg_momentum} | time: {end-begin:.2f}s\")"
   ]
  },
  {
   "cell_type": "code",
   "execution_count": 25,
   "id": "9796cc10",
   "metadata": {},
   "outputs": [],
   "source": [
    "logdf = pd.DataFrame(log)"
   ]
  },
  {
   "cell_type": "code",
   "execution_count": 31,
   "id": "f3e0a887",
   "metadata": {},
   "outputs": [
    {
     "data": {
      "text/plain": [
       "<Axes: >"
      ]
     },
     "execution_count": 31,
     "metadata": {},
     "output_type": "execute_result"
    },
    {
     "data": {
      "image/png": "[encoded data removed]",
      "text/plain": [
       "<Figure size 640x480 with 1 Axes>"
      ]
     },
     "metadata": {},
     "output_type": "display_data"
    }
   ],
   "source": [
    "logdf[['average_momentum']] .plot()"
   ]
  },
  {
   "cell_type": "code",
   "execution_count": 29,
   "id": "e0186c46",
   "metadata": {},
   "outputs": [
    {
     "data": {
      "text/html": [
       "<div>\n",
       "<style scoped>\n",
       "    .dataframe tbody tr th:only-of-type {\n",
       "        vertical-align: middle;\n",
       "    }\n",
       "\n",
       "    .dataframe tbody tr th {\n",
       "        vertical-align: top;\n",
       "    }\n",
       "\n",
       "    .dataframe thead th {\n",
       "        text-align: right;\n",
       "    }\n",
       "</style>\n",
       "<table border=\"1\" class=\"dataframe\">\n",
       "  <thead>\n",
       "    <tr style=\"text-align: right;\">\n",
       "      <th></th>\n",
       "      <th>average_test_loss</th>\n",
       "      <th>average_train_loss</th>\n",
       "      <th>average_momentum</th>\n",
       "      <th>time_from_start</th>\n",
       "    </tr>\n",
       "  </thead>\n",
       "  <tbody>\n",
       "    <tr>\n",
       "      <th>0</th>\n",
       "      <td>2.302228</td>\n",
       "      <td>2.302630</td>\n",
       "      <td>-0.000054</td>\n",
       "      <td>10.294805</td>\n",
       "    </tr>\n",
       "    <tr>\n",
       "      <th>1</th>\n",
       "      <td>2.301774</td>\n",
       "      <td>2.302114</td>\n",
       "      <td>-0.000210</td>\n",
       "      <td>20.606069</td>\n",
       "    </tr>\n",
       "    <tr>\n",
       "      <th>2</th>\n",
       "      <td>2.300966</td>\n",
       "      <td>2.301542</td>\n",
       "      <td>-0.000329</td>\n",
       "      <td>30.910170</td>\n",
       "    </tr>\n",
       "    <tr>\n",
       "      <th>3</th>\n",
       "      <td>2.298679</td>\n",
       "      <td>2.300209</td>\n",
       "      <td>-0.000444</td>\n",
       "      <td>41.230502</td>\n",
       "    </tr>\n",
       "    <tr>\n",
       "      <th>4</th>\n",
       "      <td>2.284099</td>\n",
       "      <td>2.294327</td>\n",
       "      <td>-0.000878</td>\n",
       "      <td>51.511664</td>\n",
       "    </tr>\n",
       "    <tr>\n",
       "      <th>...</th>\n",
       "      <td>...</td>\n",
       "      <td>...</td>\n",
       "      <td>...</td>\n",
       "      <td>...</td>\n",
       "    </tr>\n",
       "    <tr>\n",
       "      <th>115</th>\n",
       "      <td>2.916117</td>\n",
       "      <td>0.000272</td>\n",
       "      <td>-0.000012</td>\n",
       "      <td>2424.410713</td>\n",
       "    </tr>\n",
       "    <tr>\n",
       "      <th>116</th>\n",
       "      <td>2.922241</td>\n",
       "      <td>0.000266</td>\n",
       "      <td>-0.000012</td>\n",
       "      <td>2434.593510</td>\n",
       "    </tr>\n",
       "    <tr>\n",
       "      <th>117</th>\n",
       "      <td>2.928142</td>\n",
       "      <td>0.000260</td>\n",
       "      <td>-0.000012</td>\n",
       "      <td>2444.774677</td>\n",
       "    </tr>\n",
       "    <tr>\n",
       "      <th>118</th>\n",
       "      <td>2.933847</td>\n",
       "      <td>0.000254</td>\n",
       "      <td>-0.000011</td>\n",
       "      <td>2454.895148</td>\n",
       "    </tr>\n",
       "    <tr>\n",
       "      <th>119</th>\n",
       "      <td>2.939508</td>\n",
       "      <td>0.000249</td>\n",
       "      <td>-0.000012</td>\n",
       "      <td>2464.885148</td>\n",
       "    </tr>\n",
       "  </tbody>\n",
       "</table>\n",
       "<p>120 rows × 4 columns</p>\n",
       "</div>"
      ],
      "text/plain": [
       "     average_test_loss  average_train_loss  average_momentum  time_from_start\n",
       "0             2.302228            2.302630         -0.000054        10.294805\n",
       "1             2.301774            2.302114         -0.000210        20.606069\n",
       "2             2.300966            2.301542         -0.000329        30.910170\n",
       "3             2.298679            2.300209         -0.000444        41.230502\n",
       "4             2.284099            2.294327         -0.000878        51.511664\n",
       "..                 ...                 ...               ...              ...\n",
       "115           2.916117            0.000272         -0.000012      2424.410713\n",
       "116           2.922241            0.000266         -0.000012      2434.593510\n",
       "117           2.928142            0.000260         -0.000012      2444.774677\n",
       "118           2.933847            0.000254         -0.000011      2454.895148\n",
       "119           2.939508            0.000249         -0.000012      2464.885148\n",
       "\n",
       "[120 rows x 4 columns]"
      ]
     },
     "execution_count": 29,
     "metadata": {},
     "output_type": "execute_result"
    }
   ],
   "source": [
    "logdf"
   ]
  },
  {
   "cell_type": "code",
   "execution_count": null,
   "id": "0c7a4e8c",
   "metadata": {},
   "outputs": [],
   "source": []
  }
 ],
 "metadata": {
  "kernelspec": {
   "display_name": "env",
   "language": "python",
   "name": "env"
  },
  "language_info": {
   "codemirror_mode": {
    "name": "ipython",
    "version": 3
   },
   "file_extension": ".py",
   "mimetype": "text/x-python",
   "name": "python",
   "nbconvert_exporter": "python",
   "pygments_lexer": "ipython3",
   "version": "3.8.10"
  }
 },
 "nbformat": 4,
 "nbformat_minor": 5
}
